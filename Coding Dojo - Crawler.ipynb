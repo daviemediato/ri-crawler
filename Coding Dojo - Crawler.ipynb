{
 "cells": [
  {
   "cell_type": "markdown",
   "metadata": {},
   "source": [
    "# ☯ Coding Dojo ☯"
   ]
  },
  {
   "cell_type": "markdown",
   "metadata": {},
   "source": [
    "<img style=\"float:left\" src=\"imgs/vamos_coletar.png\">\n",
    "## Regras\n",
    "\n",
    "Ponto de participação, poderá perdido se:\n",
    "\n",
    "    - Aluno atrasado (ver política de atraso na especificação)\n",
    "    - Recusar participação como piloto/copiloto\n",
    "        - Ou não querer sair do computador, quando solicitado :-)\n",
    "    - Demorar para sair quando solicitado\n",
    "    - Parar de participar por:\n",
    "        - Uso de outro computador\n",
    "        - Uso de celular\n",
    "        - Usar a internet\n",
    "        - Conversa\n"
   ]
  },
  {
   "cell_type": "markdown",
   "metadata": {},
   "source": [
    "Antes de entregar, certifique-se que tenha executado todos os comandos/códigos deste Jupyter. É obrigatório que todas as saídas tenham sido apresentadas. Perda de 3 pontos caso não tenham feito isso."
   ]
  },
  {
   "cell_type": "markdown",
   "metadata": {},
   "source": [
    "# Dependencias"
   ]
  },
  {
   "cell_type": "markdown",
   "metadata": {},
   "source": [
    "Se necessário, instale o python3 e o pip3 abaixo usando `sudo apt-get install python3 python3-pip`.  Execute abaixo para instalar o [BeautifulSoup](https://www.crummy.com/software/BeautifulSoup/). Qualquer linha de comando/código como a de baixo, você pode executá-la a selecionando e pressionando `ctrl+enter` ❣️."
   ]
  },
  {
   "cell_type": "code",
   "execution_count": 1,
   "metadata": {},
   "outputs": [
    {
     "name": "stdout",
     "output_type": "stream",
     "text": [
      "Requirement already satisfied: bs4 in c:\\users\\davi\\appdata\\local\\programs\\python\\python38-32\\lib\\site-packages (0.0.1)\n",
      "Requirement already satisfied: beautifulsoup4 in c:\\users\\davi\\appdata\\local\\programs\\python\\python38-32\\lib\\site-packages (from bs4) (4.9.1)\n",
      "Requirement already satisfied: soupsieve>1.2 in c:\\users\\davi\\appdata\\local\\programs\\python\\python38-32\\lib\\site-packages (from beautifulsoup4->bs4) (2.0.1)\n"
     ]
    },
    {
     "name": "stderr",
     "output_type": "stream",
     "text": [
      "WARNING: You are using pip version 22.0.3; however, version 22.1 is available.\n",
      "You should consider upgrading via the 'c:\\users\\davi\\appdata\\local\\programs\\python\\python38-32\\python.exe -m pip install --upgrade pip' command.\n"
     ]
    }
   ],
   "source": [
    "!pip3 install bs4"
   ]
  },
  {
   "cell_type": "markdown",
   "metadata": {},
   "source": [
    "Caso de comando não encontrado `pip3` use `pip`. "
   ]
  },
  {
   "cell_type": "markdown",
   "metadata": {},
   "source": [
    "# Coletor"
   ]
  },
  {
   "cell_type": "markdown",
   "metadata": {},
   "source": [
    "<img src=\"imgs/arquitetura_coletor.png\">"
   ]
  },
  {
   "cell_type": "markdown",
   "metadata": {},
   "source": [
    "Você deverá completar a implementação das três classes abaixo para fazer o coletor: `Domain`, `Scheduler` e `PageFetcher`. Conforme figura acima, o `Scheduler` é responsável por armazenar as filas de URLs a serem requisitadas; o PageFetcher serão *threads* responsáveis por fazer as requisições das URLs obtidas por meio do escalonador (instancia da classe `Scheduler`). A classe `Domain` armazena informações importantes sobre o servidor a serem usadas no momento do escalonamento das URLs."
   ]
  },
  {
   "cell_type": "markdown",
   "metadata": {},
   "source": [
    "## Classe `Domain`"
   ]
  },
  {
   "cell_type": "markdown",
   "metadata": {},
   "source": [
    "<figure style=\"text-align:center\">\n",
    "    <img src=\"imgs/estrutura_coletor.png\">\n",
    "    <caption>Fonte: Baeza-Yates e Ribeiro-Neto, 2011 </caption>\n",
    "</figure>"
   ]
  },
  {
   "cell_type": "markdown",
   "metadata": {},
   "source": [
    "Antes de começar a fazer o escalonador (classe `Scheduler`) devemos implementar a classe que representa os domínios. Conforme visto na figura acima, o escalonador possuirá diversas filas, uma para cada servidor.  Em nosso caso, o servidor será um domínio - que você irá implementar na classe `Domain` do arquivo `domain.py`. \n",
    "\n",
    "O escalonador percorrerá cada servidor e obterá o primeiro da fila do primeiro servidor acessível. O servidor é acessível obdecendo o limite de tempo entre requisições (em segundos, usando o atributo `time_limit_between_requests`). \n",
    "\n",
    "Nesta atividade você irá implementar a classe `Domain`, que já possui os seguintes atributos: \n",
    "\n",
    "- *time_limit_between_requests*: Limite entre requisições (int)\n",
    "- *nam_domain*: Nome do domínio (String)\n",
    "- *time_last_access*: [Objeto Datetime](https://docs.python.org/3/library/datetime.html#datetime-objects) informando da data/hora do último acesso \n",
    "\n",
    "O prefixo da variável sempre irá denotar o tipo da mesma."
   ]
  },
  {
   "cell_type": "markdown",
   "metadata": {},
   "source": [
    "**Atividade 1 - classe `Domain`**: Complete a classe `Domain` implementando os métodos/atributos calculados descritos a seguir. Logo após, execute o ❣️ teste unitário ❣️ para verificar se os métodos/atributos calculados foram implementados conforme esperado.\n",
    "\n",
    "- **accessed_now**: Método que modifica o último acesso com a data/hora atual usando um [objeto datetime](https://docs.python.org/3/library/datetime.html#datetime-objects)\n",
    "- **time_since_last_access**: Atributo calculado que retorna um [objeto TimeDelta](https://docs.python.org/3/library/datetime.html#timedelta-objects) com a diferença da data atual e a data do último acesso. Veja os exemplos de uso do TimeDelta na sua documentação\n",
    "- **is_accessible**: Método que verdadeiro se o domínio estiver acessível"
   ]
  },
  {
   "cell_type": "markdown",
   "metadata": {},
   "source": [
    "Os métodos `count_fetched_page` e `has_finished_crawl` já estão implementados. Execute o teste unitário a seguir. Veja que o comando abaixo executa o teste unitário presente no arquivo `crawler/scheduler_test.py`. Analise-o para entender como implementamos testes unitários."
   ]
  },
  {
   "cell_type": "code",
   "execution_count": 2,
   "metadata": {},
   "outputs": [
    {
     "name": "stdout",
     "output_type": "stream",
     "text": [
      "Verificando acesso a um dominio já requisitado (após espera)\n",
      "aguardando 10 segundos...\n"
     ]
    },
    {
     "name": "stderr",
     "output_type": "stream",
     "text": [
      ".\n",
      "----------------------------------------------------------------------\n",
      "Ran 1 test in 10.005s\n",
      "\n",
      "OK\n"
     ]
    }
   ],
   "source": [
    "!python -m crawler.scheduler_test DomainTest.test_domain"
   ]
  },
  {
   "cell_type": "markdown",
   "metadata": {},
   "source": [
    "**Atividade 2 - métodos `__hash__` e `__eq__` da classe `Domain`**: A fila será implementada por um dicionario ordenado ([OrderedDict](https://docs.python.org/2/library/collections.html#collections.OrderedDict)) em que a chave será um objeto da classe domínio e o valor serão uma lista de URLs. Para que seja possível a busca do domínio, você deverá implementar os métodos `__hash__` e `__eq__` de forma similar ao seguinte exemplo: "
   ]
  },
  {
   "cell_type": "code",
   "execution_count": 3,
   "metadata": {},
   "outputs": [
    {
     "name": "stdout",
     "output_type": "stream",
     "text": [
      "True\n"
     ]
    }
   ],
   "source": [
    "from collections import OrderedDict\n",
    "class Xuxu():\n",
    "    def __str__(self):\n",
    "        return \"xuxuuu\"\n",
    "    \n",
    "    def __hash__(self):\n",
    "        return hash(\"xuxu\")\n",
    "    def __eq__(self, x):\n",
    "        return x == \"xuxu\"\n",
    "d = OrderedDict()\n",
    "d[Xuxu()] = 'A'\n",
    "print(\"xuxu\" in d)"
   ]
  },
  {
   "cell_type": "markdown",
   "metadata": {},
   "source": [
    "No nosso caso, deve ser permitido fazer a busca no dicionário pelo nome do domínio ou pelo objeto, ou seja, após a implementação desta atividade, o seguinte código irá funcionar corretamente:"
   ]
  },
  {
   "cell_type": "code",
   "execution_count": 4,
   "metadata": {},
   "outputs": [
    {
     "name": "stdout",
     "output_type": "stream",
     "text": [
      "oi\n",
      "oi\n"
     ]
    }
   ],
   "source": [
    "from crawler.domain import Domain\n",
    "from collections import OrderedDict\n",
    "\n",
    "obj_domain = Domain(\"oi.com\",10)\n",
    "dic_x = OrderedDict()\n",
    "dic_x[obj_domain] = \"lala\"\n",
    "dic_x[\"oi.com\"] = \"oi\"\n",
    "\n",
    "#abaixo, em ambos os casos, será encontrado/impresso a string \"oi\"\n",
    "print(dic_x[\"oi.com\"])\n",
    "print(dic_x[obj_domain])"
   ]
  },
  {
   "cell_type": "markdown",
   "metadata": {},
   "source": [
    "Lembre-se que, em nosso caso, o parametro do método `__eq__` pode ser um objeto da classe `Domain` ou uma string representando o nome do domínio. Caso faça alguma modificação no código, você deverá reiniciar o kernel para que o efeito seja visto no código acima (para reiniciar, clique em Kernel->Restart). Isso ocorre que, uma vez dado import em um módulo, esse modulo não é alterado no Jupyter caso você faça uma modificação no código."
   ]
  },
  {
   "cell_type": "markdown",
   "metadata": {},
   "source": [
    "## Classe `Scheduler`"
   ]
  },
  {
   "cell_type": "markdown",
   "metadata": {},
   "source": [
    "Agora você irá implementar o escalonador. Essa classe será responsável por gerir as URLs.\n",
    "Para isso, será implementado as filas por servidores conforme apresentado na figura da seção anterior.\n",
    "Para isso, utilizaremos um OrderedDict em que as chaves são os servidores (objeto da classe `Domain`) e o valor será uma lista de tuplas com as URLs e sua profundidade. Com o objetivo de armazenar as URLs de forma estruturada, as mesmas **não serão** string, ao invés disso, serão objetos da classe `ParseResult` - essa classe é retornada do método [urlparse](https://docs.python.org/3/library/urllib.parse.html). Veja um exemplo abaixo.\n",
    "\n"
   ]
  },
  {
   "cell_type": "code",
   "execution_count": 5,
   "metadata": {},
   "outputs": [],
   "source": [
    "from crawler.domain import Domain\n",
    "from crawler.scheduler import Scheduler\n",
    "from urllib.parse import urlparse\n",
    "\n",
    "dict_filas_por_servidor = {Domain(\"www.globo.com\",10):[\n",
    "                                                (urlparse(\"http://www.globo.com/esporte\"),1),\n",
    "                                                (urlparse(\"http://www.globo.com/noticia_um\"),2),\n",
    "                                                (urlparse(\"http://www.globo.com/noticia_dois\"),3),\n",
    "                                                (urlparse(\"http://www.globo.com/noticia_tres\"),3),\n",
    "                                                ],\n",
    "                            Domain(\"www.cnpq.br\",10):[(urlparse(\"http://www.cnpq.br/pesquisadores\"),1),\n",
    "                                               (urlparse(\"http://www.cnpq.br/bolsas\"),1)]\n",
    "                          }"
   ]
  },
  {
   "cell_type": "markdown",
   "metadata": {},
   "source": [
    "Assim, a classe `Scheduler`, no arquivo `scheduler.py` possui os seguintes atributos: \n",
    "\n",
    "- `str_usr_agent`: Nome do `User agent`. Usualmente, é o nome do navegador, no nosso caso, será o nome do coletor (usualmente, terminado em `bot`)\n",
    "- `page_limit`: Número de páginas a serem coletadas\n",
    "- `depth_limit`: Profundidade máxima a ser coletada\n",
    "- `page_count`: Quantidade de páginas já coletadas\n",
    "- `dic_url_per_domain`: Fila de URLs por domínio (explicado anteriormente)\n",
    "- `set_discovered_urls`: Conjunto de URLs descobertas, ou seja, que foi extraída em algum HTML e já adicionadas na fila - mesmo se já ela foi retirada da fila. A URL armazenada deve ser uma string.\n",
    "- `dic_robots_per_domain`: Dicionário armazenando, para cada domínio, o objeto representando as regras obtidas no `robots.txt`"
   ]
  },
  {
   "cell_type": "markdown",
   "metadata": {},
   "source": [
    "**Atividad 3 - Método `can_add_page`**: Esse método irá retornar verdadeiro caso seja possível adicionar a página `obj_url` (objeto da classe ParseResult) que foi coletada na profundidade `depth`. Para que seja possível adicionar na lista, esta pagina não deve ter sido descoberta e nem com a profundidade maior que o limite. Este método será testado por teste unitário apenas após a implementação da adição e obtenção das URLs."
   ]
  },
  {
   "cell_type": "markdown",
   "metadata": {},
   "source": [
    "**Atividade 4 método `add_new_page` - Adicionar nova página**:  Este método retorna falso caso não seja possível adicionar a página (por meio do método `can_add_page`) e verdadeiro, caso contrário. Caso seja possível, deve-se adicionar a url `obj_url` na fila `dic_url_per_domain`. Lembre-se da estrutura do dicionário `dic_url_per_domain`. Não esqueça de armazenar que esta URL já foi descoberta. Este método será testado por teste unitário apenas após a implementação da obtenção das URLs. Lembre-se de como trabalhar com [dicionários](https://daniel-hasan.github.io/cefet-web-grad/classes/python2/#mais-colecoes)"
   ]
  },
  {
   "cell_type": "markdown",
   "metadata": {},
   "source": [
    "**Atividade 5 método `get_next_url` - obtém a próxima URL da fila**: Este método retona uma tupla `url,profundade` da próxima URL a ser coletada por meio da fila `dic_url_per_domain` retirando este item da fila. Lembre-se que: \n",
    "    \n",
    "- Ele deverá retornar a primeira URL do primeiro servidor que estiver acessível. \n",
    "- Você deve indicar que o servidor foi acessado \n",
    "- Caso a fila deste servidor esteja vazia, elimine-o do dicionário\n",
    "- Caso não encontre a URL, [coloque a Thread para esperar](https://docs.python.org/2/library/time.html#time.sleep) e, logo após, procure novamente \n",
    "\n",
    "Logo após, você já pode executar o teste unitário para verificar se a obtenção e adição de URLs está correta. Caso haja algum problema, existem já alguns prints comentados no código, descomente-os para verificar se o fluxo está ocorrendo da forma correta. Você deverá entregar sem a exibição desses prints (caso contrário, perderá pontos)."
   ]
  },
  {
   "cell_type": "code",
   "execution_count": 6,
   "metadata": {},
   "outputs": [
    {
     "name": "stdout",
     "output_type": "stream",
     "text": [
      "Verificação da ordem das URLs...\n",
      "Resgatando a segunda página do mesmo dominio...\n",
      "Tempo esperado: 20 segundos\n"
     ]
    },
    {
     "name": "stderr",
     "output_type": "stream",
     "text": [
      ".\n",
      "----------------------------------------------------------------------\n",
      "Ran 1 test in 20.010s\n",
      "\n",
      "OK\n"
     ]
    }
   ],
   "source": [
    "!python -m crawler.scheduler_test SchedulerTest.test_add_remove_page"
   ]
  },
  {
   "cell_type": "markdown",
   "metadata": {},
   "source": [
    "**Atividade 6 método `can_fetch_page`**: Este método deve retornar verdadeiro caso a url (Objeto `ParseResult`), passada como parâmetro, pode ser coletada de acordo com o `Robots.txt` do domínio. Para isso, você deve usar o [`RobotFileParser`](https://docs.python.org/3/library/urllib.robotparser.html) para requisitar a URL do `robots.txt` deste domínio. Por razões de performance, você só poderá requisitar o robots.txt uma única vez por domínio. Assim, use o `dic_robots_per_domain` apropriadamente. Execute o teste unitário abaixo para verificar seu funcionamento. "
   ]
  },
  {
   "cell_type": "code",
   "execution_count": 7,
   "metadata": {},
   "outputs": [
    {
     "name": "stderr",
     "output_type": "stream",
     "text": [
      ".\n",
      "----------------------------------------------------------------------\n",
      "Ran 1 test in 1.077s\n",
      "\n",
      "OK\n"
     ]
    }
   ],
   "source": [
    "!python -m crawler.scheduler_test SchedulerTest.test_can_fetch"
   ]
  },
  {
   "cell_type": "markdown",
   "metadata": {},
   "source": [
    "**Atividade 7 - Inicialização das sementes no construtor**: No construtor da classe `Scheduler` você deve adicionar as páginas sementes na fila. Tais sementes são passadas pelo parametro `arr_urls_seeds` do construtor. "
   ]
  },
  {
   "cell_type": "code",
   "execution_count": 8,
   "metadata": {},
   "outputs": [
    {
     "name": "stderr",
     "output_type": "stream",
     "text": [
      ".\n",
      "----------------------------------------------------------------------\n",
      "Ran 1 test in 0.000s\n",
      "\n",
      "OK\n"
     ]
    }
   ],
   "source": [
    "!python -m crawler.scheduler_test SchedulerTest.test_init"
   ]
  },
  {
   "cell_type": "markdown",
   "metadata": {},
   "source": [
    "Logo após, utize a anotação @synchronized aonde julgar necessário para transformar em ThreadSafe."
   ]
  },
  {
   "cell_type": "markdown",
   "metadata": {},
   "source": [
    "## PageFetcher"
   ]
  },
  {
   "cell_type": "markdown",
   "metadata": {},
   "source": [
    "**Atividade 8 - Efetuar a requisição - método `request_url`:** Neste método você irá fazer a requisição usando a api [requests](https://requests.readthedocs.io/en/master/). Além disso, deve-se informar no cabeçalho (em `User-Agent`) o nome do coletor. O método deverá retornar o conteúdo (em binário) apenas se o conteúdo for HTML (ver no cabeçalho da resposta o tipo do conteúdo). Caso não seja, ele deverá retornar `None`. "
   ]
  },
  {
   "cell_type": "code",
   "execution_count": 9,
   "metadata": {},
   "outputs": [
    {
     "name": "stderr",
     "output_type": "stream",
     "text": [
      ".\n",
      "----------------------------------------------------------------------\n",
      "Ran 1 test in 0.995s\n",
      "\n",
      "OK\n"
     ]
    }
   ],
   "source": [
    "!python -m crawler.page_fetcher_test PageFetcherTest.test_request_url"
   ]
  },
  {
   "cell_type": "markdown",
   "metadata": {},
   "source": [
    "**Atividade 9 extração das URLs por meio do método `discover_links`**: A partir do conteúdo (texto em binário) `bin_str_content` deve-se extrair seus os links. O conteúdo esta em binário, pois, o BeautifulSoup, internamente, verifica o encoding por meio da [tag meta](https://www.w3schools.com/tags/att_meta_charset.asp) e converte para UTF8. A URL da página coletada é um objeto ParseResult `obj_url` que está na profundidade `depth`. \n",
    "\n",
    "Para cada URL extraída, você deverá retornar uma tupla com a URL (objeto ParseResult) e a sua profundidade. Utilize o comando `yield` para retornar essas tuplas. A profundidade é calculada de por meio de  `obj_url` e `depth`, conforme comentado em sala de aula. \n",
    "\n",
    "Para a extração dos links, use o [CSS Selector do BeautifulSoup](https://www.crummy.com/software/BeautifulSoup/bs4/doc/#css-selectors). Seletor CSS é uma expressão que define quais elementos HTML serão estilizados pelo CSS. No *Beatifulsoup* eles são usados para selecionar quais tags serão extraídas. Veja o exemplo de uso e brinque abaixo. Caso precise, veja aqui um pouco de seletores CSS: [slides de Web](https://fegemo.github.io/cefet-front-end/classes/css2/#outros-seletores), [documentação MDN](https://developer.mozilla.org/en-US/docs/Web/CSS/CSS_Selectors)."
   ]
  },
  {
   "cell_type": "code",
   "execution_count": 10,
   "metadata": {},
   "outputs": [],
   "source": [
    "from bs4 import BeautifulSoup\n",
    "\n",
    "\n"
   ]
  },
  {
   "cell_type": "code",
   "execution_count": 11,
   "metadata": {},
   "outputs": [
    {
     "name": "stdout",
     "output_type": "stream",
     "text": [
      "Requirement already satisfied: lxml in c:\\users\\davi\\appdata\\local\\programs\\python\\python38-32\\lib\\site-packages (4.8.0)\n",
      "Note: you may need to restart the kernel to use updated packages.\n"
     ]
    },
    {
     "name": "stderr",
     "output_type": "stream",
     "text": [
      "WARNING: You are using pip version 22.0.3; however, version 22.1 is available.\n",
      "You should consider upgrading via the 'C:\\Users\\Davi\\AppData\\Local\\Programs\\Python\\Python38-32\\python.exe -m pip install --upgrade pip' command.\n"
     ]
    }
   ],
   "source": [
    "%pip install lxml"
   ]
  },
  {
   "cell_type": "code",
   "execution_count": 12,
   "metadata": {},
   "outputs": [
    {
     "name": "stdout",
     "output_type": "stream",
     "text": [
      "Simulação da extração de links da página http://www.pudim.com.br na profundidade nível 2...\n"
     ]
    },
    {
     "name": "stderr",
     "output_type": "stream",
     "text": [
      ".\n",
      "----------------------------------------------------------------------\n",
      "Ran 1 test in 0.001s\n",
      "\n",
      "OK\n"
     ]
    }
   ],
   "source": [
    "!python -m crawler.page_fetcher_test PageFetcherTest.test_discover_links"
   ]
  },
  {
   "cell_type": "markdown",
   "metadata": {},
   "source": [
    "**Atividade 10 - método que solicita uma nova URL**: Por meio do método `crawl_new_url` você deverá utilizar os métodos previamente implementados para:\n",
    "\n",
    "- Solicitar ao escalonador uma nova URL\n",
    "- Fazer a requisição e obter o resultado (em binário)\n",
    "- Caso a URL seja um HTML válido, imprima esta URL e extraia os seus links"
   ]
  },
  {
   "cell_type": "markdown",
   "metadata": {},
   "source": [
    "**Atividade 11 - método run**: Este método deve coletar páginas enquanto a coleta não foi finalizada"
   ]
  },
  {
   "cell_type": "markdown",
   "metadata": {},
   "source": [
    "**Atividade 12 - um pequeno teste para finalizar:** Use as sementes do seu grupo e crie abaixo um escalonador e 5 PageFetchers para extrair 30 páginas. Imprima também o tempo gasto total."
   ]
  },
  {
   "cell_type": "code",
   "execution_count": 1,
   "metadata": {},
   "outputs": [
    {
     "name": "stdout",
     "output_type": "stream",
     "text": [
      "[+] Adicionada página: https://hltv.org\n",
      "[+] Adicionada página: https://hltv.org/\n",
      "[+] Adicionada página: https://hltv.org/matches\n",
      "[+] Adicionada página: https://hltv.org/results\n",
      "[+] Adicionada página: https://hltv.org/events\n",
      "[+] Adicionada página: https://hltv.org/stats\n",
      "[+] Adicionada página: https://hltv.org/galleries\n",
      "[+] Adicionada página: https://hltv.org/ranking/teams\n",
      "[+] Adicionada página: https://hltv.org/forums\n",
      "[+] Adicionada página: https://hltv.org/betting/analytics\n",
      "[+] Adicionada página: https://hltv.org/live\n",
      "[+] Adicionada página: https://hltv.org/fantasy\n",
      "[+] Adicionada página: https://hltv.org/signup\n",
      "[+] Adicionada página: https://hltv.org/EksbCB4oDSANS1NLHQYZCwgHBwwbNg4OCwwdNgsbS0VLGwgeKA05BQgKDAQMBx0gDUtTSz0GGSoMBx0MG0tFSxsIHioGHAcdGxAgGgZLU0srO0tFSxsIHigNPQgOGktTEhRFSxsIHioFAAoCIA0MBx0ADwAMG0tTSxI1Sx0QGQw1S1M1SwYbDkcBBR0fRwgNGkcIGQBHDQgdCEc9BhkrCAcHDBsoDSoGBw8ADhwbCB0ABgdHPQYZKwgHBwwbJQAHAiANDAcdAA8ADBtHLgUGCwgFJQAHAjVLFEsU\n",
      "[+] Adicionada página: https://hltv.org/EksbCB4oDSANS1NLHQYZCwgHBwwbNg4OCwwdNgsbS0VLGwgeKA05BQgKDAQMBx0gDUtTSz0GGSoMBx0MG0tFSxsIHioGHAcdGxAgGgZLU0srO0tFSxsIHigNPQgOGktTEhRFSxsIHioFAAoCIA0MBx0ADwAMG0tTSxI1Sx0QGQw1S1M1SwYbDkcBBR0fRwgNGkcIGQBHDQgdCEc9BhkrCAcHDBsoDSoGBw8ADhwbCB0ABgdHPQYZKwgHBwwbJQAHAiANDAcdAA8ADBtHJg0NGiUABwIgDQwHHQAPAAwbNUtFNUsECB0KASANNUtTW1pcX1tcXhRLFA==\n",
      "[+] Adicionada página: https://hltv.org/EksbCB4oDSANS1NLHQYZCwgHBwwbNg4OCwwdNgsbS0VLGwgeKA05BQgKDAQMBx0gDUtTSz0GGSoMBx0MG0tFSxsIHioGHAcdGxAgGgZLU0srO0tFSxsIHigNPQgOGktTEhRFSxsIHioFAAoCIA0MBx0ADwAMG0tTSxI1Sx0QGQw1S1M1SwYbDkcBBR0fRwgNGkcIGQBHDQgdCEc9BhkrCAcHDBsoDSoGBw8ADhwbCB0ABgdHPQYZKwgHBwwbJQAHAiANDAcdAA8ADBtHJg0NGiUABwIgDQwHHQAPAAwbNUtFNUsECB0KASANNUtTW1pcX1hcXRRLFA==\n",
      "[+] Adicionada página: https://hltv.org/EksbCB4oDSANS1NLHQYZCwgHBwwbNg4OCwwdNgsbS0VLGwgeKA05BQgKDAQMBx0gDUtTSz0GGSoMBx0MG0tFSxsIHioGHAcdGxAgGgZLU0srO0tFSxsIHigNPQgOGktTEhRFSxsIHioFAAoCIA0MBx0ADwAMG0tTSxI1Sx0QGQw1S1M1SwYbDkcBBR0fRwgNGkcIGQBHDQgdCEc9BhkrCAcHDBsoDSoGBw8ADhwbCB0ABgdHPQYZKwgHBwwbJQAHAiANDAcdAA8ADBtHJg0NGiUABwIgDQwHHQAPAAwbNUtFNUsECB0KASANNUtTW1pcX1hcXhRLFA==\n",
      "[+] Adicionada página: https://hltv.org/EksbCB4oDSANS1NLHQYZCwgHBwwbNg4OCwwdNgsbS0VLGwgeKA05BQgKDAQMBx0gDUtTSz0GGSoMBx0MG0tFSxsIHioGHAcdGxAgGgZLU0srO0tFSxsIHigNPQgOGktTEhRFSxsIHioFAAoCIA0MBx0ADwAMG0tTSxI1Sx0QGQw1S1M1SwYbDkcBBR0fRwgNGkcIGQBHDQgdCEc9BhkrCAcHDBsoDSoGBw8ADhwbCB0ABgdHPQYZKwgHBwwbJQAHAiANDAcdAA8ADBtHJg0NGiUABwIgDQwHHQAPAAwbNUtFNUsECB0KASANNUtTW1pcX1hcXBRLFA==\n",
      "[+] Adicionada página: https://hltv.org/EksbCB4oDSANS1NLHQYZCwgHBwwbNg4OCwwdNgsbS0VLGwgeKA05BQgKDAQMBx0gDUtTSz0GGSoMBx0MG0tFSxsIHioGHAcdGxAgGgZLU0srO0tFSxsIHigNPQgOGktTEhRFSxsIHioFAAoCIA0MBx0ADwAMG0tTSxI1Sx0QGQw1S1M1SwYbDkcBBR0fRwgNGkcIGQBHDQgdCEc9BhkrCAcHDBsoDSoGBw8ADhwbCB0ABgdHPQYZKwgHBwwbJQAHAiANDAcdAA8ADBtHJg0NGiUABwIgDQwHHQAPAAwbNUtFNUsECB0KASANNUtTW1pcX1hcURRLFA==\n",
      "[+] Adicionada página: https://hltv.org/EksbCB4oDSANS1NLHQYZCwgHBwwbNg4OCwwdNgsbS0VLGwgeKA05BQgKDAQMBx0gDUtTSz0GGSoMBx0MG0tFSxsIHioGHAcdGxAgGgZLU0srO0tFSxsIHigNPQgOGktTEhRFSxsIHioFAAoCIA0MBx0ADwAMG0tTSxI1Sx0QGQw1S1M1SwYbDkcBBR0fRwgNGkcIGQBHDQgdCEc9BhkrCAcHDBsoDSoGBw8ADhwbCB0ABgdHPQYZKwgHBwwbJQAHAiANDAcdAA8ADBtHJg0NGiUABwIgDQwHHQAPAAwbNUtFNUsECB0KASANNUtTW1pcX1hcXxRLFA==\n",
      "[+] Adicionada página: https://hltv.org/EksbCB4oDSANS1NLHQYZCwgHBwwbNg4OCwwdNgsbS0VLGwgeKA05BQgKDAQMBx0gDUtTSz0GGSoMBx0MG0tFSxsIHioGHAcdGxAgGgZLU0srO0tFSxsIHigNPQgOGktTEhRFSxsIHioFAAoCIA0MBx0ADwAMG0tTSxI1Sx0QGQw1S1M1SwYbDkcBBR0fRwgNGkcIGQBHDQgdCEc9BhkrCAcHDBsoDSoGBw8ADhwbCB0ABgdHPQYZKwgHBwwbJQAHAiANDAcdAA8ADBtHJg0NGiUABwIgDQwHHQAPAAwbNUtFNUsECB0KASANNUtTW1pcX1hcUBRLFA==\n",
      "[+] Adicionada página: https://hltv.org/EksbCB4oDSANS1NLXllLRUsbCB4oDTkFCAoMBAwHHSANS1NLPQYZOwAOAR1LRUsbCB4qBhwHHRsQIBoGS1NLKztLRUsbCB4oDT0IDhpLUxIURUsbCB4qBQAKAiANDAcdAA8ADBtLUwccBQUU\n",
      "[+] Adicionada página: https://hltv.org/EksbCB4oDSANS1NLWFlZS0VLGwgeKA05BQgKDAQMBx0gDUtTSz0GGSQGCwAFDEtFSxsIHioGHAcdGxAgGgZLU0srO0tFSxsIHigNPQgOGktTEksZCA4MS1NLLxsGBx1LFEVLGwgeKgUACgIgDQwHHQAPAAwbS1NLEjVLBAgdCgEgDTVLU1taXF9bXF5FNUsGDQ0aOgwFDAodAAYHNUtTNUsnJicsNUsUSxQ=\n",
      "[+] Adicionada página: https://hltv.org/matches/2356261/cyberstorm-vs-bosses-fragadelphia-17-st-louis\n",
      "[+] Adicionada página: https://hltv.org/events/6372/pgl-major-antwerp-2022\n",
      "[+] Adicionada página: https://hltv.org/events/6372/matches\n",
      "[+] Adicionada página: https://hltv.org/results?event=6372\n",
      "[+] Adicionada página: https://hltv.org/stats?event=6372\n",
      "[+] Adicionada página: https://hltv.org/major\n",
      "[+] Adicionada página: https://www.hltv.org/news/33760/fallen-a-dream-coming-true-for-us-would-be-being-able-to-play-on-a-stage-again\n",
      "[+] Adicionada página: https://hltv.org/news/33825/round-4-matchups-set-in-antwerp\n",
      "[+] Adicionada página: https://hltv.org/news/33824/navi-clinch-second-pgl-major-playoffs-spot\n",
      "[+] Adicionada página: https://hltv.org/news/33822/imperial-live-to-fight-another-day-as-bne-are-eliminated\n",
      "[+] Adicionada página: https://hltv.org/news/33821/dupreeh-we-dont-want-to-be-reliant-on-one-guy\n",
      "[+] Adicionada página: https://hltv.org/news/33820/spirit-advance-to-major-playoffs-vitality-eliminate-liquid\n",
      "[+] Adicionada página: https://hltv.org/news/33819/twistzz-were-hitting-a-good-stride-right-now-i-think-were-close-to-peaking\n",
      "[+] Adicionada página: https://hltv.org/news/33818/furia-and-faze-cruise-through-final-best-of-ones\n",
      "[+] Adicionada página: https://hltv.org/news/33817/heroic-come-back-against-g2-in-overtime-ence-defeat-outsiders\n",
      "[+] Adicionada página: https://hltv.org/news/33816/major-teams-reach-agreement-not-to-use-smoke-cancel-bug\n",
      "[+] Adicionada página: https://hltv.org/news/33815/m0nesys-controversial-mirage-smoke-approved-by-pgl\n",
      "[+] Adicionada página: https://hltv.org/news/33814/video-upsets-strike-on-first-day-of-legends-stage-moses-recaps-pgl-major-antwerp\n",
      "[+] Adicionada página: https://hltv.org/news/33813/video-m0nesys-flashy-1v3-against-imperial\n",
      "[+] Adicionada página: https://hltv.org/news/33812/cloud9-vs-faze-headlines-high-octane-round-3\n",
      "[+] Adicionada página: https://hltv.org/news/33811/m0nesy-pulls-g2-out-of-trouble-vs-imperial-nip-beat-cloud9-to-go-2-0\n",
      "[+] Adicionada página: https://hltv.org/news/33810/roej-our-real-test-will-be-now-going-into-the-best-of-threes\n",
      "[+] Adicionada página: https://hltv.org/news/33807/refrezh-its-a-dream-to-lift-the-trophy-on-lan-its-not-the-same-doing-it-online\n",
      "[+] Adicionada página: https://hltv.org/news/33809/navi-and-furia-take-comfortable-victories\n",
      "[+] Adicionada página: https://hltv.org/news/33806/copenhagen-flames-best-ence-faze-dismantle-bad-news-eagles\n",
      "[+] Adicionada página: https://hltv.org/news/33805/spirit-pull-off-another-comeback-against-heroic-vitality-collapse-versus-outsiders\n",
      "[+] Adicionada página: https://hltv.org/news/33804/round-2-matchups-set-in-antwerp\n",
      "[+] Adicionada página: https://hltv.org/news/33803/navi-take-down-g2-big-dispatch-imperial\n",
      "[+] Adicionada página: https://hltv.org/news/33802/ence-upset-faze-spirit-come-back-against-furia\n",
      "[+] Adicionada página: https://hltv.org/news/33801/nip-pick-up-landslide-victory-over-vitality-cloud9-secure-debut-win-vs-outsiders\n",
      "[+] Adicionada página: https://hltv.org/news/33800/heroic-take-down-liquid-cph-flames-outlast-bne-to-start-off-legends-stage\n",
      "[+] Adicionada página: https://hltv.org/news/33717/could-furia-be-dark-horses-at-antwerp\n",
      "[+] Adicionada página: https://hltv.org/news/33798/vod-discussing-major-results-and-previewing-legends-stage-on-hltv-confirmed-with-guest-nbk\n",
      "[+] Adicionada página: https://hltv.org/news/33799/the-crown-that-has-eluded-the-journeyed-igl-karrigans-chance-to-finally-claim-a-major\n",
      "[+] Adicionada página: https://hltv.org/news/33794/bulletpoints-pgl-major-antwerp-legends\n",
      "[+] Adicionada página: https://hltv.org/news/33793/big-and-copenhagen-flames-round-out-pinnacle-cup-championship-team-list\n",
      "[+] Adicionada página: https://hltv.org/news/33796/fantasy-game-for-pgl-major-antwerp-legends-stage-is-now-live\n",
      "[+] Adicionada página: https://hltv.org/news/archive/2022/may\n",
      "[+] Adicionada página: https://hltv.org/forums/threads/2626167/free-naf\n",
      "[+] Adicionada página: https://hltv.org/forums/threads/2626163/imperial-best-fallen-team-since-cold-left\n",
      "[+] Adicionada página: https://hltv.org/forums/threads/2625580/niko-what-happened\n",
      "[+] Adicionada página: https://hltv.org/forums/threads/2626145/overpass-short-molotov\n",
      "[+] Adicionada página: https://hltv.org/forums/threads/2626169/c9-vs-imperial\n",
      "[+] Adicionada página: https://hltv.org/forums/threads/2626149/how-are-your-pickems-after-today\n",
      "[+] Adicionada página: https://hltv.org/forums/threads/2626128/navi-viewership\n",
      "[+] Adicionada página: https://hltv.org/forums/threads/2626160/7-1-jokes-up-to-2022\n",
      "[+] Adicionada página: https://hltv.org/forums/threads/2626132/ban-discussion-of-usa-politics-and-news\n",
      "[+] Adicionada página: https://hltv.org/forums/threads/2626138/agro-navi\n",
      "[+] Adicionada página: https://hltv.org/matches/2356159/cloud9-vs-imperial-pgl-major-antwerp-2022\n",
      "[+] Adicionada página: https://hltv.org/forums/threads/2625786/cadian-rekts-g2-lmfao\n",
      "[+] Adicionada página: https://hltv.org/forums/threads/2625380/usa-come-here\n",
      "[+] Adicionada página: https://hltv.org/forums/threads/2626157/shox\n",
      "[+] Adicionada página: https://hltv.org/forums/threads/2626164/zeus-supports-russia\n",
      "[+] Adicionada página: https://hltv.org/forums/threads/2626166/ancient-and-train\n",
      "[+] Adicionada página: https://hltv.org/forums/threads/2626079/vini-about-c9\n",
      "[+] Adicionada página: https://hltv.org/forums/threads/2626168/smooya-loves-jazz\n",
      "[+] Adicionada página: https://hltv.org/EksbCB4oDSANS1NLWF1RS0VLGwgeKA05BQgKDAQMBx0gDUtTSy8AGxodKgYFHAQHPQYZS0VLGwgeKgYcBx0bECAaBktTSys7S0VLGwgeKA09CA4aS1MSFEVLGwgeKgUACgIgDQwHHQAPAAwbS1NLEjVLBAgdCgEgDTVLU1taXF9bXF5FNUsGDQ0aOgwFDAodAAYHNUtTNUsvKCUlKygqIjVLFEsU\n",
      "[+] Adicionada página: https://hltv.org/EksbCB4oDSANS1NLWF1RS0VLGwgeKA05BQgKDAQMBx0gDUtTSy8AGxodKgYFHAQHPQYZS0VLGwgeKgYcBx0bECAaBktTSys7S0VLGwgeKA09CA4aS1MSFEVLGwgeKgUACgIgDQwHHQAPAAwbS1NLEjVLBAgdCgEgDTVLU1taXF9bXF5FNUsGDQ0aOgwFDAodAAYHNUtTNUs9LCgkWDVLFEsU\n",
      "[+] Adicionada página: https://hltv.org/EksbCB4oDSANS1NLWF1RS0VLGwgeKA05BQgKDAQMBx0gDUtTSy8AGxodKgYFHAQHPQYZS0VLGwgeKgYcBx0bECAaBktTSys7S0VLGwgeKA09CA4aS1MSFEVLGwgeKgUACgIgDQwHHQAPAAwbS1NLEjVLBAgdCgEgDTVLU1taXF9bXF5FNUsGDQ0aOgwFDAodAAYHNUtTNUs9LCgkWzVLFEsU\n",
      "[+] Adicionada página: https://hltv.org/EksbCB4oDSANS1NLWF1RS0VLGwgeKA05BQgKDAQMBx0gDUtTSy8AGxodKgYFHAQHPQYZS0VLGwgeKgYcBx0bECAaBktTSys7S0VLGwgeKA09CA4aS1MSFEVLGwgeKgUACgIgDQwHHQAPAAwbS1NLEjVLBAgdCgEgDTVLU1taXF9bXF5FNUsGDQ0aOgwFDAodAAYHNUtTNUsnJicsNUsUSxQ=\n",
      "[+] Adicionada página: https://hltv.org/stats/leaderboards?startDate=2022-05-08&endDate=2022-05-15&rankingFilter=Top30\n",
      "[+] Adicionada página: https://hltv.org/EksbCB4oDSANS1NLGgIABxkGGx02DwAbGh0KBgVLRUsbCB4oDTkFCAoMBAwHHSANS1NLLwAbGh0qBgUcBAckAA0NBQxLRUsbCB4qBhwHHRsQIBoGS1NLKztLRUsbCB4oDT0IDhpLUxIURUsbCB4qBQAKAiANDAcdAA8ADBtLU0sSNUsbDA0AGwwKHSUABwI1S1M1SwEdHRkaU0ZGGgIABxkGGx1HCgYERgAdDARGGhkGGx1EDgUGHwwaRBoKCBsFDB1EGgEIBAgOAUQPAAwFDUQdDBodDA1WG1QBBR0fNUsUSxQ=\n",
      "[+] Adicionada página: https://hltv.org/EksbCB4oDSANS1NLWFFfS0VLGwgeKA05BQgKDAQMBx0gDUtTSy8AGxodKgYFOwgHAgAHDisQS0VLGwgeKgYcBx0bECAaBktTSys7S0VLGwgeKA09CA4aS1MSFEVLGwgeKgUACgIgDQwHHQAPAAwbS1MHHAUFFA==\n",
      "[+] Adicionada página: https://hltv.org/team/6667/faze\n",
      "[+] Adicionada página: https://hltv.org/team/4608/natus-vincere\n",
      "[+] Adicionada página: https://hltv.org/team/4869/ence\n",
      "[+] Adicionada página: https://hltv.org/team/5752/cloud9\n",
      "[+] Adicionada página: https://hltv.org/team/7175/heroic\n",
      "[+] Adicionada página: https://hltv.org/events/6384/pgl-major-antwerp-2022-challengers-stage\n",
      "[+] Adicionada página: https://hltv.org/events/6138/iem-dallas-2022\n",
      "[+] Adicionada página: https://hltv.org/events/6477/pinnacle-cup-championship-2022\n",
      "[+] Adicionada página: https://hltv.org/events/6345/blast-premier-spring-final-2022\n",
      "[+] Adicionada página: https://hltv.org/EksbCB4oDSANS1NLW11eS0VLGwgeKA05BQgKDAQMBx0gDUtTSy8AGxodKgYFHAQHKwYdHQYEWEtFSxsIHioGHAcdGxAgGgZLU0srO0tFSxsIHigNPQgOGktTEhRFSxsIHioFAAoCIA0MBx0ADwAMG0tTBxwFBRQ=\n",
      "[+] Adicionada página: https://hltv.org/gallery/view/24826\n",
      "[+] Adicionada página: https://hltv.org/gallery/5418/mad-catz-invitational-saturday\n",
      "[+] Adicionada página: https://hltv.org/matches/2356257/arctic-vs-b4-liga-gamers-club-2022-serie-a-april-cup\n",
      "[+] Adicionada página: https://hltv.org/matches/2356154/copenhagen-flames-vs-faze-pgl-major-antwerp-2022\n",
      "[+] Adicionada página: https://hltv.org/matches/2356157/big-vs-vitality-pgl-major-antwerp-2022\n",
      "[+] Adicionada página: https://hltv.org/matches/2356158/g2-vs-outsiders-pgl-major-antwerp-2022\n",
      "[+] Adicionada página: https://hltv.org/matches/2356155/nip-vs-furia-pgl-major-antwerp-2022\n",
      "[+] Adicionada página: https://hltv.org/matches/2356156/ence-vs-heroic-pgl-major-antwerp-2022\n",
      "[+] Adicionada página: https://hltv.org/EksbCB4oDSANS1NLWlhYS0VLGwgeKA05BQgKDAQMBx0gDUtTSz0BABsNKgYFHAQHJAANDQUMWEtFSxsIHioGHAcdGxAgGgZLU0srO0tFSxsIHigNPQgOGktTEhRFSxsIHioFAAoCIA0MBx0ADwAMG0tTBxwFBRQ=\n",
      "[+] Adicionada página: https://hltv.org/events/6579/fragadelphia-17-st-louis\n",
      "[+] Adicionada página: https://hltv.org/matches/2356151/natus-vincere-vs-nip-pgl-major-antwerp-2022\n",
      "[+] Adicionada página: https://hltv.org/matches/2356260/bosses-vs-cncs-lasthope-fragadelphia-17-st-louis\n",
      "[+] Adicionada página: https://hltv.org/matches/2356153/bad-news-eagles-vs-imperial-pgl-major-antwerp-2022\n",
      "[+] Adicionada página: https://hltv.org/events/6574/swisscom-hero-league-spring-2022\n",
      "[+] Adicionada página: https://hltv.org/matches/2356234/babos-vs-irie-legacy-swisscom-hero-league-spring-2022\n",
      "[+] Adicionada página: https://hltv.org/events/6578/fragleague-season-8\n",
      "[+] Adicionada página: https://hltv.org/matches/2356252/iso-vs-lemondogs-fragleague-season-8\n",
      "[+] Adicionada página: https://hltv.org/matches/2356259/cyberstorm-vs-vicious-kitties-fragadelphia-17-st-louis\n",
      "[+] Adicionada página: https://hltv.org/matches/2356150/spirit-vs-copenhagen-flames-pgl-major-antwerp-2022\n",
      "[+] Adicionada página: https://hltv.org/matches/2356152/vitality-vs-liquid-pgl-major-antwerp-2022\n",
      "[+] Adicionada página: https://hltv.org/matches/2356147/cloud9-vs-faze-pgl-major-antwerp-2022\n",
      "[+] Adicionada página: https://hltv.org/matches/2356149/big-vs-furia-pgl-major-antwerp-2022\n",
      "[+] Adicionada página: https://hltv.org/matches/2356146/heroic-vs-g2-pgl-major-antwerp-2022\n",
      "[+] Adicionada página: https://hltv.org/matches/2356148/ence-vs-outsiders-pgl-major-antwerp-2022\n",
      "[+] Adicionada página: https://hltv.org/events/6573/liga-gamers-club-2022-serie-a-april-cup\n",
      "[+] Adicionada página: https://hltv.org/matches/2356256/redragon-vs-b4-liga-gamers-club-2022-serie-a-april-cup\n",
      "[+] Adicionada página: https://hltv.org/matches/2356141/cloud9-vs-nip-pgl-major-antwerp-2022\n",
      "[+] Adicionada página: https://hltv.org/matches/2356145/g2-vs-imperial-pgl-major-antwerp-2022\n",
      "[+] Adicionada página: https://hltv.org/EksbCB4oDSANS1NLUF5LRUsbCB4oDTkFCAoMBAwHHSANS1NLLwYcGx0BKgYFHAQHJAANDQUMWEtFSxsIHioGHAcdGxAgGgZLU0svO0tFSxsIHigNPQgOGktTEhRFSxsIHioFAAoCIA0MBx0ADwAMG0tTSxI1SwQIHQoBIA01S1NbWlxfW1xeRTVLBg0NGjoMBQwKHQAGBzVLUzVLJyYnLDVLFEsU\n",
      "[+] Adicionada página: https://out.hltv.org/1xbet_new.php?placement=ASdvuasdr123Gazxreg&ref=registration/\n",
      "[+] Adicionada página: https://hltv.org/results?content=vod\n",
      "[+] Adicionada página: https://shop.eslgaming.com/products/hltv-t-shirt/?ref=hltv.org\n",
      "[+] Adicionada página: https://apps.apple.com/us/app/hltv-org/id1078945675\n",
      "[+] Adicionada página: https://play.google.com/store/apps/details?id=org.hltv.android\n",
      "[+] Adicionada página: https://hltv.org/contact#tab-applyForJobSection\n",
      "[+] Adicionada página: https://hltv.org/contact\n",
      "[+] Adicionada página: https://hltv.org/terms\n",
      "[+] Adicionada página: https://hltv.org/privacy\n",
      "[+] Adicionada página: https://hltv.org/cookie-policy\n",
      "[+] Adicionada página: https://hltv.org/disclosure\n",
      "[+] Adicionada página: https://hltv.org/rss/news\n",
      "[+] Adicionada página: https://www.facebook.com/HLTV.org\n",
      "[+] Adicionada página: https://www.twitch.tv/hltvorg\n",
      "[+] Adicionada página: https://www.youtube.com/user/wwwHLTVorg\n",
      "[+] Adicionada página: https://www.twitter.com/HLTVorg\n",
      "[+] Adicionada página: https://vk.com/hltvorg\n",
      "[+] Adicionada página: https://www.instagram.com/hltvorg/\n",
      "[+] Adicionada página: https://www.gamblingtherapy.org\n",
      "[+] Adicionada página: https://www.begambleaware.org/\n",
      "[+] Adicionada página: https://twitter.com/Nohte\n",
      "[+] Adicionada página: https://youtu.be/TkYAS9XeeQE\n",
      "[+] Adicionada página: https://instagram.com/eslshop\n",
      "[+] Adicionada página: https://twitter.com/eslshop\n",
      "[+] Adicionada página: https://www.tiktok.com/@eslgaming\n",
      "[+] Adicionada página: https://cdn.shopify.com/s/files/1/0264/4583/products/1hKQI0cJQeitPFsp97qp_hltv100-front_1800x1800.jpg?v=1582026414\n",
      "[+] Adicionada página: https://cdn.shopify.com/s/files/1/0264/4583/products/Q2gfRkBLRB20Mu2BfrT1_hltv100-detail-1_1800x1800.jpg?v=1582026415\n",
      "[+] Adicionada página: https://cdn.shopify.com/s/files/1/0264/4583/products/PT8xO8KGTQ2TZME1lUWU_hltv100-backl_1800x1800.jpg?v=1582026414\n",
      "[+] Adicionada página: https://cdn.shopify.com/s/files/1/0264/4583/products/xk05lSBESAixJ96PK6qR_hltv100-detail-2_1800x1800.jpg?v=1582026416\n",
      "[+] Adicionada página: https://www.dhl.de/en/privatkunden/kampagnenseiten/coronavirus.html\n",
      "[+] Adicionada página: http://eepurl.com/c_DUGH\n",
      "[+] Adicionada página: https://apps.apple.com/us/app/hltv-org/id1078945675#ac-gn-menustate\n",
      "[+] Adicionada página: https://www.apple.com/\n",
      "[+] Adicionada página: https://www.apple.com/us/shop/goto/bag\n",
      "[+] Adicionada página: https://www.apple.com/us/search\n",
      "[+] Adicionada página: https://www.apple.com/us/shop/goto/store\n",
      "[+] Adicionada página: https://www.apple.com/mac/\n",
      "[+] Adicionada página: https://www.apple.com/ipad/\n",
      "[+] Adicionada página: https://www.apple.com/iphone/\n",
      "[+] Adicionada página: https://www.apple.com/watch/\n",
      "[+] Adicionada página: https://www.apple.com/airpods/\n",
      "[+] Adicionada página: https://www.apple.com/tv-home/\n",
      "[+] Adicionada página: https://www.apple.com/services/\n",
      "[+] Adicionada página: https://www.apple.com/us/shop/goto/buy_accessories\n",
      "[+] Adicionada página: https://support.apple.com\n",
      "[+] Adicionada página: https://www.apple.com/ios/app-store/\n",
      "[+] Adicionada página: https://apps.apple.com/us/developer/hltv-org-aps/id1078945674\n",
      "[+] Adicionada página: https://apps.apple.com/us/app/hltv-org/id1078945675?platform=ipad\n",
      "[+] Adicionada página: https://apps.apple.com/us/app/hltv-org/id1078945675?platform=iphone\n",
      "[+] Adicionada página: https://www.hltv.org/privacy\n",
      "[+] Adicionada página: https://apps.apple.com/story/id1538632801\n",
      "[+] Adicionada página: https://itunes.apple.com/us/genre/id6009\n",
      "[+] Adicionada página: https://www.hltv.org\n",
      "[+] Adicionada página: https://apps.apple.com/us/app/liveuamap/id1003808504\n",
      "[+] Adicionada página: https://apps.apple.com/us/app/comet-for-reddit/id1146204813\n",
      "[+] Adicionada página: https://apps.apple.com/us/app/slide-for-reddit/id1260626828\n",
      "[+] Adicionada página: https://apps.apple.com/us/app/octal-for-hacker-news/id1308885491\n",
      "[+] Adicionada página: https://apps.apple.com/us/app/o-globo/id390832733\n",
      "[+] Adicionada página: https://apps.apple.com/us/app/valor-econ%C3%B4mico/id566450663\n",
      "[+] Adicionada página: https://www.apple.com/retail/\n",
      "[+] Adicionada página: https://locate.apple.com/\n",
      "[+] Adicionada página: https://www.apple.com/choose-country-region/\n",
      "[+] Adicionada página: https://www.apple.com/legal/privacy/\n",
      "[+] Adicionada página: https://www.apple.com/legal/internet-services/terms/site.html\n",
      "[+] Adicionada página: https://www.apple.com/us/shop/goto/help/sales_refunds\n",
      "[+] Adicionada página: https://www.apple.com/legal/\n",
      "[+] Adicionada página: https://www.apple.com/sitemap/\n",
      "[+] Adicionada página: https://www.google.com.br/webhp?tab=8w\n",
      "[+] Adicionada página: http://www.google.com.br/imghp?hl=en&tab=8i\n",
      "[+] Adicionada página: https://maps.google.com.br/maps?hl=en&tab=8l\n",
      "[+] Adicionada página: https://www.youtube.com/?gl=BR&tab=81\n",
      "[+] Adicionada página: https://news.google.com/?tab=8n\n",
      "[+] Adicionada página: https://mail.google.com/mail/?tab=8m\n",
      "[+] Adicionada página: https://drive.google.com/?tab=8o\n",
      "[+] Adicionada página: https://www.google.com.br/intl/en/about/products?tab=8h\n",
      "[+] Adicionada página: https://accounts.google.com/ServiceLogin?passive=1209600&continue=https://play.google.com/store/apps/details?id%3Dorg.hltv.android&followup=https://play.google.com/store/apps/details?id%3Dorg.hltv.android&ec=GAZATg\n",
      "[+] Adicionada página: https://play.google.com/store/apps\n",
      "[+] Adicionada página: https://play.google.com/apps\n",
      "[+] Adicionada página: https://play.google.com/store/apps/category/GAME\n",
      "[+] Adicionada página: https://play.google.com/store/apps/category/FAMILY\n",
      "[+] Adicionada página: https://play.google.com/store/apps/editors_choice\n",
      "[+] Adicionada página: https://play.google.com/store/movies\n",
      "[+] Adicionada página: https://play.google.com/movies\n",
      "[+] Adicionada página: https://play.google.com/store/movies/category/FAMILY\n",
      "[+] Adicionada página: https://play.google.com/store/movies/stream/promotion_collections_movie_studios\n",
      "[+] Adicionada página: https://play.google.com/store/books\n",
      "[+] Adicionada página: https://play.google.com/books\n",
      "[+] Adicionada página: https://play.google.com/store/books/category/audiobooks\n",
      "[+] Adicionada página: https://play.google.com/store\n",
      "[+] Adicionada página: https://play.google.com/store/account\n",
      "[+] Adicionada página: https://play.google.com/store/paymentmethods\n",
      "[+] Adicionada página: https://play.google.com/store/account/subscriptions\n",
      "[+] Adicionada página: https://play.google.com/intl/en-US_br/about/giftcards\n",
      "[+] Adicionada página: https://play.google.com/wishlist\n",
      "[+] Adicionada página: https://play.google.com/store/myplayactivity\n",
      "[+] Adicionada página: https://support.google.com/googleplay?p=pff_parentguide\n",
      "[+] Adicionada página: https://play.google.com/store/apps/category/ART_AND_DESIGN\n",
      "[+] Adicionada página: https://play.google.com/store/apps/stream/baselist_featured_arcore\n",
      "[+] Adicionada página: https://play.google.com/store/apps/category/AUTO_AND_VEHICLES\n",
      "[+] Adicionada página: https://play.google.com/store/apps/category/BEAUTY\n",
      "[+] Adicionada página: https://play.google.com/store/apps/category/BOOKS_AND_REFERENCE\n",
      "[+] Adicionada página: https://play.google.com/store/apps/category/BUSINESS\n",
      "[+] Adicionada página: https://play.google.com/store/apps/category/COMICS\n",
      "[+] Adicionada página: https://play.google.com/store/apps/category/COMMUNICATION\n",
      "[+] Adicionada página: https://play.google.com/store/apps/category/DATING\n",
      "[+] Adicionada página: https://play.google.com/store/apps/stream/vr_top_device_featured_category\n",
      "[+] Adicionada página: https://play.google.com/store/apps/category/EDUCATION\n",
      "[+] Adicionada página: https://play.google.com/store/apps/category/ENTERTAINMENT\n",
      "[+] Adicionada página: https://play.google.com/store/apps/category/EVENTS\n",
      "[+] Adicionada página: https://play.google.com/store/apps/category/FINANCE\n",
      "[+] Adicionada página: https://play.google.com/store/apps/category/FOOD_AND_DRINK\n",
      "[+] Adicionada página: https://play.google.com/store/apps/category/HEALTH_AND_FITNESS\n",
      "[+] Adicionada página: https://play.google.com/store/apps/category/HOUSE_AND_HOME\n",
      "[+] Adicionada página: https://play.google.com/store/apps/category/LIBRARIES_AND_DEMO\n",
      "[+] Adicionada página: https://play.google.com/store/apps/category/LIFESTYLE\n",
      "[+] Adicionada página: https://play.google.com/store/apps/category/MAPS_AND_NAVIGATION\n",
      "[+] Adicionada página: https://play.google.com/store/apps/category/MEDICAL\n",
      "[+] Adicionada página: https://play.google.com/store/apps/category/MUSIC_AND_AUDIO\n",
      "[+] Adicionada página: https://play.google.com/store/apps/category/NEWS_AND_MAGAZINES\n",
      "[+] Adicionada página: https://play.google.com/store/apps/category/PARENTING\n",
      "[+] Adicionada página: https://play.google.com/store/apps/category/PERSONALIZATION\n",
      "[+] Adicionada página: https://play.google.com/store/apps/category/PHOTOGRAPHY\n",
      "[+] Adicionada página: https://play.google.com/store/apps/category/PRODUCTIVITY\n",
      "[+] Adicionada página: https://play.google.com/store/apps/category/SHOPPING\n",
      "[+] Adicionada página: https://play.google.com/store/apps/category/SOCIAL\n",
      "[+] Adicionada página: https://play.google.com/store/apps/category/SPORTS\n",
      "[+] Adicionada página: https://play.google.com/store/apps/category/TOOLS\n",
      "[+] Adicionada página: https://play.google.com/store/apps/category/TRAVEL_AND_LOCAL\n",
      "[+] Adicionada página: https://play.google.com/store/apps/category/VIDEO_PLAYERS\n",
      "[+] Adicionada página: https://play.google.com/store/apps/category/ANDROID_WEAR\n",
      "[+] Adicionada página: https://play.google.com/store/apps/category/WATCH_FACE\n",
      "[+] Adicionada página: https://play.google.com/store/apps/category/WEATHER\n",
      "[+] Adicionada página: https://play.google.com/store/apps/category/GAME_ACTION\n",
      "[+] Adicionada página: https://play.google.com/store/apps/category/GAME_ADVENTURE\n",
      "[+] Adicionada página: https://play.google.com/store/apps/category/GAME_ARCADE\n",
      "[+] Adicionada página: https://play.google.com/store/apps/category/GAME_BOARD\n",
      "[+] Adicionada página: https://play.google.com/store/apps/category/GAME_CARD\n",
      "[+] Adicionada página: https://play.google.com/store/apps/category/GAME_CASINO\n",
      "[+] Adicionada página: https://play.google.com/store/apps/category/GAME_CASUAL\n",
      "[+] Adicionada página: https://play.google.com/store/apps/category/GAME_EDUCATIONAL\n",
      "[+] Adicionada página: https://play.google.com/store/apps/category/GAME_MUSIC\n",
      "[+] Adicionada página: https://play.google.com/store/apps/category/GAME_PUZZLE\n",
      "[+] Adicionada página: https://play.google.com/store/apps/category/GAME_RACING\n",
      "[+] Adicionada página: https://play.google.com/store/apps/category/GAME_ROLE_PLAYING\n",
      "[+] Adicionada página: https://play.google.com/store/apps/category/GAME_SIMULATION\n",
      "[+] Adicionada página: https://play.google.com/store/apps/category/GAME_SPORTS\n",
      "[+] Adicionada página: https://play.google.com/store/apps/category/GAME_STRATEGY\n",
      "[+] Adicionada página: https://play.google.com/store/apps/category/GAME_TRIVIA\n",
      "[+] Adicionada página: https://play.google.com/store/apps/category/GAME_WORD\n",
      "[+] Adicionada página: https://play.google.com/store/apps/category/FAMILY?age=AGE_RANGE1\n",
      "[+] Adicionada página: https://play.google.com/store/apps/category/FAMILY?age=AGE_RANGE2\n",
      "[+] Adicionada página: https://play.google.com/store/apps/category/FAMILY?age=AGE_RANGE3\n",
      "[+] Adicionada página: https://play.google.com/store/apps/top\n",
      "[+] Adicionada página: https://play.google.com/store/apps/new\n",
      "[+] Adicionada página: https://play.google.com/settings\n",
      "[+] Adicionada página: https://play.google.com/store/apps/developer?id=HLTV.org+dev\n",
      "[+] Adicionada página: https://play.google.com/about/comment-posting-policy.html?hl=en-US\n",
      "[+] Adicionada página: https://support.google.com/googleplay?p=appgame_ratings\n",
      "[+] Adicionada página: https://support.google.com/googleplay/?p=report_content\n",
      "[+] Adicionada página: http://www.hltv.org\n",
      "[+] Adicionada página: mailto:android@hltv.org\n",
      "[+] Adicionada página: https://play.google.com/store/apps/collection/cluster?clp=ogoeCBEqAggIMhYKEG9yZy5obHR2LmFuZHJvaWQQARgD:S:ANO1ljKsg2k&gsr=CiGiCh4IESoCCAgyFgoQb3JnLmhsdHYuYW5kcm9pZBABGAM%3D:S:ANO1ljJuysw\n",
      "[+] Adicionada página: https://play.google.com/store/apps/details?id=com.stadtrausch.csgotacticguidepro\n",
      "[+] Adicionada página: https://play.google.com/store/apps/developer?id=Stadtrausch+Agentur\n",
      "[+] Adicionada página: https://play.google.com/store/apps/details?id=com.chopey.smokecenter\n",
      "[+] Adicionada página: https://play.google.com/store/apps/developer?id=chopeY\n",
      "[+] Adicionada página: https://play.google.com/store/apps/details?id=com.faceit.mobile\n",
      "[+] Adicionada página: https://play.google.com/store/apps/developer?id=FACEIT\n",
      "[+] Adicionada página: https://play.google.com/store/apps/details?id=com.mezmeraiz.skinswipe\n",
      "[+] Adicionada página: https://play.google.com/store/apps/developer?id=Good+Game+GLHF\n",
      "[+] Adicionada página: https://play.google.com/store/apps/details?id=com.dmarket.dmarketmobile\n",
      "[+] Adicionada página: https://play.google.com/store/apps/dev?id=7888547600466528630\n",
      "[+] Adicionada página: https://play.google.com/intl/en-US_br/about/play-terms.html\n",
      "[+] Adicionada página: https://policies.google.com/privacy\n",
      "[+] Adicionada página: http://developer.android.com/index.html\n",
      "[+] Adicionada página: https://support.google.com/googleplay/?p=about_play\n",
      "[+] Adicionada página: https://payments.google.com/termsOfService?hl=en_US\n",
      "[+] Adicionada página: https://payments.google.com/legaldocument?family=0.privacynotice&hl=en_US\n",
      "O tempo total gasto foi: 14.443431854248047\n"
     ]
    }
   ],
   "source": [
    "import time\n",
    "from crawler.page_fetcher import PageFetcher\n",
    "from crawler.scheduler import Scheduler\n",
    "from multiprocessing import Process\n",
    "from urllib.parse import urlparse\n",
    "\n",
    "start = time.time()\n",
    "\n",
    "page_limit = 200\n",
    "depth_limit = 3\n",
    "usr_agent = 'RobotCEFET-MG/1.0'\n",
    "max_page_fetchers = 5\n",
    "\n",
    "urls_seeds = ['https://hltv.org']\n",
    "\n",
    "urls = [urlparse(url) for url in urls_seeds]\n",
    "scheduler = Scheduler(usr_agent, page_limit, depth_limit, urls)\n",
    "page_fetchers = [PageFetcher(scheduler) for _ in range(max_page_fetchers)]\n",
    "\n",
    "for page_fetcher in page_fetchers:\n",
    "    process = Process(page_fetcher.run())\n",
    "    process.start()\n",
    "    process.join()\n",
    "\n",
    "end = time.time()\n",
    "\n",
    "print(f'O tempo total gasto foi: {end - start}')\n",
    "\n"
   ]
  },
  {
   "cell_type": "markdown",
   "metadata": {},
   "source": [
    "# Bibliografia\n",
    "\n",
    "Baeza-Yates, Ricardo; Ribeiro-Neto, Berthier. **Modern information retrieval: the concepts and technology behind search**. ACM Press, 2011.\n",
    "\n",
    "Batista, Natércia ; Brandão, Michele ; Pinheiro, Michele ; Dalip, Daniel ; Moro, Mirella . **[Dados de Múltiplas Fontes da Web: coleta, integração e pré-processamento](https://sol.sbc.org.br/livros/index.php/sbc/catalog/download/8/19/58-1?inline=1)**. Minicursos do XXIV Simpósio Brasileiro de Sistemas Multimídia e Web. 1ed.: Sociedade Brasileira de Computação, 2018, v. , p. 153-192."
   ]
  }
 ],
 "metadata": {
  "kernelspec": {
   "display_name": "Python 3",
   "language": "python",
   "name": "python3"
  },
  "language_info": {
   "codemirror_mode": {
    "name": "ipython",
    "version": 3
   },
   "file_extension": ".py",
   "mimetype": "text/x-python",
   "name": "python",
   "nbconvert_exporter": "python",
   "pygments_lexer": "ipython3",
   "version": "3.8.2"
  }
 },
 "nbformat": 4,
 "nbformat_minor": 2
}
