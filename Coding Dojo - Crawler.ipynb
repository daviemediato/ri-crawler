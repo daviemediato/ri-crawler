{
 "cells": [
  {
   "cell_type": "markdown",
   "metadata": {},
   "source": [
    "# ☯ Coding Dojo ☯"
   ]
  },
  {
   "cell_type": "markdown",
   "metadata": {},
   "source": [
    "<img style=\"float:left\" src=\"imgs/vamos_coletar.png\">\n",
    "## Regras\n",
    "\n",
    "Ponto de participação, poderá perdido se:\n",
    "\n",
    "    - Aluno atrasado (ver política de atraso na especificação)\n",
    "    - Recusar participação como piloto/copiloto\n",
    "        - Ou não querer sair do computador, quando solicitado :-)\n",
    "    - Demorar para sair quando solicitado\n",
    "    - Parar de participar por:\n",
    "        - Uso de outro computador\n",
    "        - Uso de celular\n",
    "        - Usar a internet\n",
    "        - Conversa\n"
   ]
  },
  {
   "cell_type": "markdown",
   "metadata": {},
   "source": [
    "Antes de entregar, certifique-se que tenha executado todos os comandos/códigos deste Jupyter. É obrigatório que todas as saídas tenham sido apresentadas. Perda de 3 pontos caso não tenham feito isso."
   ]
  },
  {
   "cell_type": "markdown",
   "metadata": {},
   "source": [
    "# Dependencias"
   ]
  },
  {
   "cell_type": "markdown",
   "metadata": {},
   "source": [
    "Se necessário, instale o python3 e o pip3 abaixo usando `sudo apt-get install python3 python3-pip`.  Execute abaixo para instalar o [BeautifulSoup](https://www.crummy.com/software/BeautifulSoup/). Qualquer linha de comando/código como a de baixo, você pode executá-la a selecionando e pressionando `ctrl+enter` ❣️."
   ]
  },
  {
   "cell_type": "code",
   "execution_count": 1,
   "metadata": {},
   "outputs": [
    {
     "name": "stdout",
     "output_type": "stream",
     "text": [
      "Requirement already satisfied: bs4 in c:\\users\\davi\\appdata\\local\\programs\\python\\python38-32\\lib\\site-packages (0.0.1)\n",
      "Requirement already satisfied: beautifulsoup4 in c:\\users\\davi\\appdata\\local\\programs\\python\\python38-32\\lib\\site-packages (from bs4) (4.9.1)\n",
      "Requirement already satisfied: soupsieve>1.2 in c:\\users\\davi\\appdata\\local\\programs\\python\\python38-32\\lib\\site-packages (from beautifulsoup4->bs4) (2.0.1)\n"
     ]
    },
    {
     "name": "stderr",
     "output_type": "stream",
     "text": [
      "WARNING: You are using pip version 22.0.3; however, version 22.1 is available.\n",
      "You should consider upgrading via the 'c:\\users\\davi\\appdata\\local\\programs\\python\\python38-32\\python.exe -m pip install --upgrade pip' command.\n"
     ]
    }
   ],
   "source": [
    "!pip3 install bs4"
   ]
  },
  {
   "cell_type": "markdown",
   "metadata": {},
   "source": [
    "Caso de comando não encontrado `pip3` use `pip`. "
   ]
  },
  {
   "cell_type": "markdown",
   "metadata": {},
   "source": [
    "# Coletor"
   ]
  },
  {
   "cell_type": "markdown",
   "metadata": {},
   "source": [
    "<img src=\"imgs/arquitetura_coletor.png\">"
   ]
  },
  {
   "cell_type": "markdown",
   "metadata": {},
   "source": [
    "Você deverá completar a implementação das três classes abaixo para fazer o coletor: `Domain`, `Scheduler` e `PageFetcher`. Conforme figura acima, o `Scheduler` é responsável por armazenar as filas de URLs a serem requisitadas; o PageFetcher serão *threads* responsáveis por fazer as requisições das URLs obtidas por meio do escalonador (instancia da classe `Scheduler`). A classe `Domain` armazena informações importantes sobre o servidor a serem usadas no momento do escalonamento das URLs."
   ]
  },
  {
   "cell_type": "markdown",
   "metadata": {},
   "source": [
    "## Classe `Domain`"
   ]
  },
  {
   "cell_type": "markdown",
   "metadata": {},
   "source": [
    "<figure style=\"text-align:center\">\n",
    "    <img src=\"imgs/estrutura_coletor.png\">\n",
    "    <caption>Fonte: Baeza-Yates e Ribeiro-Neto, 2011 </caption>\n",
    "</figure>"
   ]
  },
  {
   "cell_type": "markdown",
   "metadata": {},
   "source": [
    "Antes de começar a fazer o escalonador (classe `Scheduler`) devemos implementar a classe que representa os domínios. Conforme visto na figura acima, o escalonador possuirá diversas filas, uma para cada servidor.  Em nosso caso, o servidor será um domínio - que você irá implementar na classe `Domain` do arquivo `domain.py`. \n",
    "\n",
    "O escalonador percorrerá cada servidor e obterá o primeiro da fila do primeiro servidor acessível. O servidor é acessível obdecendo o limite de tempo entre requisições (em segundos, usando o atributo `time_limit_between_requests`). \n",
    "\n",
    "Nesta atividade você irá implementar a classe `Domain`, que já possui os seguintes atributos: \n",
    "\n",
    "- *time_limit_between_requests*: Limite entre requisições (int)\n",
    "- *nam_domain*: Nome do domínio (String)\n",
    "- *time_last_access*: [Objeto Datetime](https://docs.python.org/3/library/datetime.html#datetime-objects) informando da data/hora do último acesso \n",
    "\n",
    "O prefixo da variável sempre irá denotar o tipo da mesma."
   ]
  },
  {
   "cell_type": "markdown",
   "metadata": {},
   "source": [
    "**Atividade 1 - classe `Domain`**: Complete a classe `Domain` implementando os métodos/atributos calculados descritos a seguir. Logo após, execute o ❣️ teste unitário ❣️ para verificar se os métodos/atributos calculados foram implementados conforme esperado.\n",
    "\n",
    "- **accessed_now**: Método que modifica o último acesso com a data/hora atual usando um [objeto datetime](https://docs.python.org/3/library/datetime.html#datetime-objects)\n",
    "- **time_since_last_access**: Atributo calculado que retorna um [objeto TimeDelta](https://docs.python.org/3/library/datetime.html#timedelta-objects) com a diferença da data atual e a data do último acesso. Veja os exemplos de uso do TimeDelta na sua documentação\n",
    "- **is_accessible**: Método que verdadeiro se o domínio estiver acessível"
   ]
  },
  {
   "cell_type": "markdown",
   "metadata": {},
   "source": [
    "Os métodos `count_fetched_page` e `has_finished_crawl` já estão implementados. Execute o teste unitário a seguir. Veja que o comando abaixo executa o teste unitário presente no arquivo `crawler/scheduler_test.py`. Analise-o para entender como implementamos testes unitários."
   ]
  },
  {
   "cell_type": "code",
   "execution_count": 2,
   "metadata": {},
   "outputs": [
    {
     "name": "stdout",
     "output_type": "stream",
     "text": [
      "Verificando acesso a um dominio já requisitado (após espera)\n",
      "aguardando 10 segundos...\n"
     ]
    },
    {
     "name": "stderr",
     "output_type": "stream",
     "text": [
      ".\n",
      "----------------------------------------------------------------------\n",
      "Ran 1 test in 10.005s\n",
      "\n",
      "OK\n"
     ]
    }
   ],
   "source": [
    "!python -m crawler.scheduler_test DomainTest.test_domain"
   ]
  },
  {
   "cell_type": "markdown",
   "metadata": {},
   "source": [
    "**Atividade 2 - métodos `__hash__` e `__eq__` da classe `Domain`**: A fila será implementada por um dicionario ordenado ([OrderedDict](https://docs.python.org/2/library/collections.html#collections.OrderedDict)) em que a chave será um objeto da classe domínio e o valor serão uma lista de URLs. Para que seja possível a busca do domínio, você deverá implementar os métodos `__hash__` e `__eq__` de forma similar ao seguinte exemplo: "
   ]
  },
  {
   "cell_type": "code",
   "execution_count": 3,
   "metadata": {},
   "outputs": [
    {
     "name": "stdout",
     "output_type": "stream",
     "text": [
      "True\n"
     ]
    }
   ],
   "source": [
    "from collections import OrderedDict\n",
    "class Xuxu():\n",
    "    def __str__(self):\n",
    "        return \"xuxuuu\"\n",
    "    \n",
    "    def __hash__(self):\n",
    "        return hash(\"xuxu\")\n",
    "    def __eq__(self, x):\n",
    "        return x == \"xuxu\"\n",
    "d = OrderedDict()\n",
    "d[Xuxu()] = 'A'\n",
    "print(\"xuxu\" in d)"
   ]
  },
  {
   "cell_type": "markdown",
   "metadata": {},
   "source": [
    "No nosso caso, deve ser permitido fazer a busca no dicionário pelo nome do domínio ou pelo objeto, ou seja, após a implementação desta atividade, o seguinte código irá funcionar corretamente:"
   ]
  },
  {
   "cell_type": "code",
   "execution_count": 4,
   "metadata": {},
   "outputs": [
    {
     "name": "stdout",
     "output_type": "stream",
     "text": [
      "oi\n",
      "oi\n"
     ]
    }
   ],
   "source": [
    "from crawler.domain import Domain\n",
    "from collections import OrderedDict\n",
    "\n",
    "obj_domain = Domain(\"oi.com\",10)\n",
    "dic_x = OrderedDict()\n",
    "dic_x[obj_domain] = \"lala\"\n",
    "dic_x[\"oi.com\"] = \"oi\"\n",
    "\n",
    "#abaixo, em ambos os casos, será encontrado/impresso a string \"oi\"\n",
    "print(dic_x[\"oi.com\"])\n",
    "print(dic_x[obj_domain])"
   ]
  },
  {
   "cell_type": "markdown",
   "metadata": {},
   "source": [
    "Lembre-se que, em nosso caso, o parametro do método `__eq__` pode ser um objeto da classe `Domain` ou uma string representando o nome do domínio. Caso faça alguma modificação no código, você deverá reiniciar o kernel para que o efeito seja visto no código acima (para reiniciar, clique em Kernel->Restart). Isso ocorre que, uma vez dado import em um módulo, esse modulo não é alterado no Jupyter caso você faça uma modificação no código."
   ]
  },
  {
   "cell_type": "markdown",
   "metadata": {},
   "source": [
    "## Classe `Scheduler`"
   ]
  },
  {
   "cell_type": "markdown",
   "metadata": {},
   "source": [
    "Agora você irá implementar o escalonador. Essa classe será responsável por gerir as URLs.\n",
    "Para isso, será implementado as filas por servidores conforme apresentado na figura da seção anterior.\n",
    "Para isso, utilizaremos um OrderedDict em que as chaves são os servidores (objeto da classe `Domain`) e o valor será uma lista de tuplas com as URLs e sua profundidade. Com o objetivo de armazenar as URLs de forma estruturada, as mesmas **não serão** string, ao invés disso, serão objetos da classe `ParseResult` - essa classe é retornada do método [urlparse](https://docs.python.org/3/library/urllib.parse.html). Veja um exemplo abaixo.\n",
    "\n"
   ]
  },
  {
   "cell_type": "code",
   "execution_count": 5,
   "metadata": {},
   "outputs": [],
   "source": [
    "from crawler.domain import Domain\n",
    "from crawler.scheduler import Scheduler\n",
    "from urllib.parse import urlparse\n",
    "\n",
    "dict_filas_por_servidor = {Domain(\"www.globo.com\",10):[\n",
    "                                                (urlparse(\"http://www.globo.com/esporte\"),1),\n",
    "                                                (urlparse(\"http://www.globo.com/noticia_um\"),2),\n",
    "                                                (urlparse(\"http://www.globo.com/noticia_dois\"),3),\n",
    "                                                (urlparse(\"http://www.globo.com/noticia_tres\"),3),\n",
    "                                                ],\n",
    "                            Domain(\"www.cnpq.br\",10):[(urlparse(\"http://www.cnpq.br/pesquisadores\"),1),\n",
    "                                               (urlparse(\"http://www.cnpq.br/bolsas\"),1)]\n",
    "                          }"
   ]
  },
  {
   "cell_type": "markdown",
   "metadata": {},
   "source": [
    "Assim, a classe `Scheduler`, no arquivo `scheduler.py` possui os seguintes atributos: \n",
    "\n",
    "- `str_usr_agent`: Nome do `User agent`. Usualmente, é o nome do navegador, no nosso caso, será o nome do coletor (usualmente, terminado em `bot`)\n",
    "- `page_limit`: Número de páginas a serem coletadas\n",
    "- `depth_limit`: Profundidade máxima a ser coletada\n",
    "- `page_count`: Quantidade de páginas já coletadas\n",
    "- `dic_url_per_domain`: Fila de URLs por domínio (explicado anteriormente)\n",
    "- `set_discovered_urls`: Conjunto de URLs descobertas, ou seja, que foi extraída em algum HTML e já adicionadas na fila - mesmo se já ela foi retirada da fila. A URL armazenada deve ser uma string.\n",
    "- `dic_robots_per_domain`: Dicionário armazenando, para cada domínio, o objeto representando as regras obtidas no `robots.txt`"
   ]
  },
  {
   "cell_type": "markdown",
   "metadata": {},
   "source": [
    "**Atividad 3 - Método `can_add_page`**: Esse método irá retornar verdadeiro caso seja possível adicionar a página `obj_url` (objeto da classe ParseResult) que foi coletada na profundidade `depth`. Para que seja possível adicionar na lista, esta pagina não deve ter sido descoberta e nem com a profundidade maior que o limite. Este método será testado por teste unitário apenas após a implementação da adição e obtenção das URLs."
   ]
  },
  {
   "cell_type": "markdown",
   "metadata": {},
   "source": [
    "**Atividade 4 método `add_new_page` - Adicionar nova página**:  Este método retorna falso caso não seja possível adicionar a página (por meio do método `can_add_page`) e verdadeiro, caso contrário. Caso seja possível, deve-se adicionar a url `obj_url` na fila `dic_url_per_domain`. Lembre-se da estrutura do dicionário `dic_url_per_domain`. Não esqueça de armazenar que esta URL já foi descoberta. Este método será testado por teste unitário apenas após a implementação da obtenção das URLs. Lembre-se de como trabalhar com [dicionários](https://daniel-hasan.github.io/cefet-web-grad/classes/python2/#mais-colecoes)"
   ]
  },
  {
   "cell_type": "markdown",
   "metadata": {},
   "source": [
    "**Atividade 5 método `get_next_url` - obtém a próxima URL da fila**: Este método retona uma tupla `url,profundade` da próxima URL a ser coletada por meio da fila `dic_url_per_domain` retirando este item da fila. Lembre-se que: \n",
    "    \n",
    "- Ele deverá retornar a primeira URL do primeiro servidor que estiver acessível. \n",
    "- Você deve indicar que o servidor foi acessado \n",
    "- Caso a fila deste servidor esteja vazia, elimine-o do dicionário\n",
    "- Caso não encontre a URL, [coloque a Thread para esperar](https://docs.python.org/2/library/time.html#time.sleep) e, logo após, procure novamente \n",
    "\n",
    "Logo após, você já pode executar o teste unitário para verificar se a obtenção e adição de URLs está correta. Caso haja algum problema, existem já alguns prints comentados no código, descomente-os para verificar se o fluxo está ocorrendo da forma correta. Você deverá entregar sem a exibição desses prints (caso contrário, perderá pontos)."
   ]
  },
  {
   "cell_type": "code",
   "execution_count": 6,
   "metadata": {},
   "outputs": [
    {
     "name": "stdout",
     "output_type": "stream",
     "text": [
      "Verificação da ordem das URLs...\n",
      "Resgatando a segunda página do mesmo dominio...\n",
      "Tempo esperado: 20 segundos\n"
     ]
    },
    {
     "name": "stderr",
     "output_type": "stream",
     "text": [
      ".\n",
      "----------------------------------------------------------------------\n",
      "Ran 1 test in 20.010s\n",
      "\n",
      "OK\n"
     ]
    }
   ],
   "source": [
    "!python -m crawler.scheduler_test SchedulerTest.test_add_remove_page"
   ]
  },
  {
   "cell_type": "markdown",
   "metadata": {},
   "source": [
    "**Atividade 6 método `can_fetch_page`**: Este método deve retornar verdadeiro caso a url (Objeto `ParseResult`), passada como parâmetro, pode ser coletada de acordo com o `Robots.txt` do domínio. Para isso, você deve usar o [`RobotFileParser`](https://docs.python.org/3/library/urllib.robotparser.html) para requisitar a URL do `robots.txt` deste domínio. Por razões de performance, você só poderá requisitar o robots.txt uma única vez por domínio. Assim, use o `dic_robots_per_domain` apropriadamente. Execute o teste unitário abaixo para verificar seu funcionamento. "
   ]
  },
  {
   "cell_type": "code",
   "execution_count": 7,
   "metadata": {},
   "outputs": [
    {
     "name": "stderr",
     "output_type": "stream",
     "text": [
      ".\n",
      "----------------------------------------------------------------------\n",
      "Ran 1 test in 1.077s\n",
      "\n",
      "OK\n"
     ]
    }
   ],
   "source": [
    "!python -m crawler.scheduler_test SchedulerTest.test_can_fetch"
   ]
  },
  {
   "cell_type": "markdown",
   "metadata": {},
   "source": [
    "**Atividade 7 - Inicialização das sementes no construtor**: No construtor da classe `Scheduler` você deve adicionar as páginas sementes na fila. Tais sementes são passadas pelo parametro `arr_urls_seeds` do construtor. "
   ]
  },
  {
   "cell_type": "code",
   "execution_count": 8,
   "metadata": {},
   "outputs": [
    {
     "name": "stderr",
     "output_type": "stream",
     "text": [
      ".\n",
      "----------------------------------------------------------------------\n",
      "Ran 1 test in 0.000s\n",
      "\n",
      "OK\n"
     ]
    }
   ],
   "source": [
    "!python -m crawler.scheduler_test SchedulerTest.test_init"
   ]
  },
  {
   "cell_type": "markdown",
   "metadata": {},
   "source": [
    "Logo após, utize a anotação @synchronized aonde julgar necessário para transformar em ThreadSafe."
   ]
  },
  {
   "cell_type": "markdown",
   "metadata": {},
   "source": [
    "## PageFetcher"
   ]
  },
  {
   "cell_type": "markdown",
   "metadata": {},
   "source": [
    "**Atividade 8 - Efetuar a requisição - método `request_url`:** Neste método você irá fazer a requisição usando a api [requests](https://requests.readthedocs.io/en/master/). Além disso, deve-se informar no cabeçalho (em `User-Agent`) o nome do coletor. O método deverá retornar o conteúdo (em binário) apenas se o conteúdo for HTML (ver no cabeçalho da resposta o tipo do conteúdo). Caso não seja, ele deverá retornar `None`. "
   ]
  },
  {
   "cell_type": "code",
   "execution_count": 9,
   "metadata": {},
   "outputs": [
    {
     "name": "stderr",
     "output_type": "stream",
     "text": [
      ".\n",
      "----------------------------------------------------------------------\n",
      "Ran 1 test in 0.995s\n",
      "\n",
      "OK\n"
     ]
    }
   ],
   "source": [
    "!python -m crawler.page_fetcher_test PageFetcherTest.test_request_url"
   ]
  },
  {
   "cell_type": "markdown",
   "metadata": {},
   "source": [
    "**Atividade 9 extração das URLs por meio do método `discover_links`**: A partir do conteúdo (texto em binário) `bin_str_content` deve-se extrair seus os links. O conteúdo esta em binário, pois, o BeautifulSoup, internamente, verifica o encoding por meio da [tag meta](https://www.w3schools.com/tags/att_meta_charset.asp) e converte para UTF8. A URL da página coletada é um objeto ParseResult `obj_url` que está na profundidade `depth`. \n",
    "\n",
    "Para cada URL extraída, você deverá retornar uma tupla com a URL (objeto ParseResult) e a sua profundidade. Utilize o comando `yield` para retornar essas tuplas. A profundidade é calculada de por meio de  `obj_url` e `depth`, conforme comentado em sala de aula. \n",
    "\n",
    "Para a extração dos links, use o [CSS Selector do BeautifulSoup](https://www.crummy.com/software/BeautifulSoup/bs4/doc/#css-selectors). Seletor CSS é uma expressão que define quais elementos HTML serão estilizados pelo CSS. No *Beatifulsoup* eles são usados para selecionar quais tags serão extraídas. Veja o exemplo de uso e brinque abaixo. Caso precise, veja aqui um pouco de seletores CSS: [slides de Web](https://fegemo.github.io/cefet-front-end/classes/css2/#outros-seletores), [documentação MDN](https://developer.mozilla.org/en-US/docs/Web/CSS/CSS_Selectors)."
   ]
  },
  {
   "cell_type": "code",
   "execution_count": 10,
   "metadata": {},
   "outputs": [],
   "source": [
    "from bs4 import BeautifulSoup\n",
    "\n",
    "\n"
   ]
  },
  {
   "cell_type": "code",
   "execution_count": 11,
   "metadata": {},
   "outputs": [
    {
     "name": "stdout",
     "output_type": "stream",
     "text": [
      "Requirement already satisfied: lxml in c:\\users\\davi\\appdata\\local\\programs\\python\\python38-32\\lib\\site-packages (4.8.0)\n",
      "Note: you may need to restart the kernel to use updated packages.\n"
     ]
    },
    {
     "name": "stderr",
     "output_type": "stream",
     "text": [
      "WARNING: You are using pip version 22.0.3; however, version 22.1 is available.\n",
      "You should consider upgrading via the 'C:\\Users\\Davi\\AppData\\Local\\Programs\\Python\\Python38-32\\python.exe -m pip install --upgrade pip' command.\n"
     ]
    }
   ],
   "source": [
    "%pip install lxml"
   ]
  },
  {
   "cell_type": "code",
   "execution_count": 12,
   "metadata": {},
   "outputs": [
    {
     "name": "stdout",
     "output_type": "stream",
     "text": [
      "Simulação da extração de links da página http://www.pudim.com.br na profundidade nível 2...\n"
     ]
    },
    {
     "name": "stderr",
     "output_type": "stream",
     "text": [
      ".\n",
      "----------------------------------------------------------------------\n",
      "Ran 1 test in 0.001s\n",
      "\n",
      "OK\n"
     ]
    }
   ],
   "source": [
    "!python -m crawler.page_fetcher_test PageFetcherTest.test_discover_links"
   ]
  },
  {
   "cell_type": "markdown",
   "metadata": {},
   "source": [
    "**Atividade 10 - método que solicita uma nova URL**: Por meio do método `crawl_new_url` você deverá utilizar os métodos previamente implementados para:\n",
    "\n",
    "- Solicitar ao escalonador uma nova URL\n",
    "- Fazer a requisição e obter o resultado (em binário)\n",
    "- Caso a URL seja um HTML válido, imprima esta URL e extraia os seus links"
   ]
  },
  {
   "cell_type": "markdown",
   "metadata": {},
   "source": [
    "**Atividade 11 - método run**: Este método deve coletar páginas enquanto a coleta não foi finalizada"
   ]
  },
  {
   "cell_type": "markdown",
   "metadata": {},
   "source": [
    "**Atividade 12 - um pequeno teste para finalizar:** Use as sementes do seu grupo e crie abaixo um escalonador e 5 PageFetchers para extrair 30 páginas. Imprima também o tempo gasto total."
   ]
  },
  {
   "cell_type": "code",
   "execution_count": 11,
   "metadata": {},
   "outputs": [
    {
     "name": "stdout",
     "output_type": "stream",
     "text": [
      "[+] Adicionada página: https://hltv.org\n",
      "[+] Adicionada página: https://ge.globo.com/\n",
      "[+] Adicionada página: https://www.terra.com.br/\n",
      "[+] Adicionada página: https://hltv.org/\n",
      "[+] Adicionada página: https://hltv.org/matches\n",
      "[+] Adicionada página: https://hltv.org/results\n",
      "[+] Adicionada página: https://hltv.org/events\n",
      "[+] Adicionada página: https://hltv.org/stats\n",
      "[+] Adicionada página: https://hltv.org/galleries\n",
      "[+] Adicionada página: https://hltv.org/ranking/teams\n",
      "[+] Adicionada página: https://hltv.org/forums\n",
      "[+] Adicionada página: https://hltv.org/betting/analytics\n",
      "[+] Adicionada página: https://hltv.org/live\n",
      "[+] Adicionada página: https://hltv.org/fantasy\n",
      "[+] Adicionada página: https://hltv.org/signup\n",
      "[+] Adicionada página: https://hltv.org/EksbCB4oDSANS1NLHQYZCwgHBwwbNg4OCwwdNgsbS0VLGwgeKA05BQgKDAQMBx0gDUtTSz0GGSoMBx0MG0tFSxsIHioGHAcdGxAgGgZLU0srO0tFSxsIHigNPQgOGktTEhRFSxsIHioFAAoCIA0MBx0ADwAMG0tTSxI1Sx0QGQw1S1M1SwYbDkcBBR0fRwgNGkcIGQBHDQgdCEc9BhkrCAcHDBsoDSoGBw8ADhwbCB0ABgdHPQYZKwgHBwwbJQAHAiANDAcdAA8ADBtHLgUGCwgFJQAHAjVLFEsU\n",
      "[+] Adicionada página: https://hltv.org/EksbCB4oDSANS1NLHQYZCwgHBwwbNg4OCwwdNgsbS0VLGwgeKA05BQgKDAQMBx0gDUtTSz0GGSoMBx0MG0tFSxsIHioGHAcdGxAgGgZLU0srO0tFSxsIHigNPQgOGktTEhRFSxsIHioFAAoCIA0MBx0ADwAMG0tTSxI1Sx0QGQw1S1M1SwYbDkcBBR0fRwgNGkcIGQBHDQgdCEc9BhkrCAcHDBsoDSoGBw8ADhwbCB0ABgdHPQYZKwgHBwwbJQAHAiANDAcdAA8ADBtHJg0NGiUABwIgDQwHHQAPAAwbNUtFNUsECB0KASANNUtTW1pcX11YXhRLFA==\n",
      "[+] Adicionada página: https://hltv.org/EksbCB4oDSANS1NLHQYZCwgHBwwbNg4OCwwdNgsbS0VLGwgeKA05BQgKDAQMBx0gDUtTSz0GGSoMBx0MG0tFSxsIHioGHAcdGxAgGgZLU0srO0tFSxsIHigNPQgOGktTEhRFSxsIHioFAAoCIA0MBx0ADwAMG0tTSxI1Sx0QGQw1S1M1SwYbDkcBBR0fRwgNGkcIGQBHDQgdCEc9BhkrCAcHDBsoDSoGBw8ADhwbCB0ABgdHPQYZKwgHBwwbJQAHAiANDAcdAA8ADBtHJg0NGiUABwIgDQwHHQAPAAwbNUtFNUsECB0KASANNUtTW1pcX11YURRLFA==\n",
      "[+] Adicionada página: https://hltv.org/EksbCB4oDSANS1NLHQYZCwgHBwwbNg4OCwwdNgsbS0VLGwgeKA05BQgKDAQMBx0gDUtTSz0GGSoMBx0MG0tFSxsIHioGHAcdGxAgGgZLU0srO0tFSxsIHigNPQgOGktTEhRFSxsIHioFAAoCIA0MBx0ADwAMG0tTSxI1Sx0QGQw1S1M1SwYbDkcBBR0fRwgNGkcIGQBHDQgdCEc9BhkrCAcHDBsoDSoGBw8ADhwbCB0ABgdHPQYZKwgHBwwbJQAHAiANDAcdAA8ADBtHJg0NGiUABwIgDQwHHQAPAAwbNUtFNUsECB0KASANNUtTW1pcX1pcWxRLFA==\n",
      "[+] Adicionada página: https://hltv.org/EksbCB4oDSANS1NLHQYZCwgHBwwbNg4OCwwdNgsbS0VLGwgeKA05BQgKDAQMBx0gDUtTSz0GGSoMBx0MG0tFSxsIHioGHAcdGxAgGgZLU0srO0tFSxsIHigNPQgOGktTEhRFSxsIHioFAAoCIA0MBx0ADwAMG0tTSxI1Sx0QGQw1S1M1SwYbDkcBBR0fRwgNGkcIGQBHDQgdCEc9BhkrCAcHDBsoDSoGBw8ADhwbCB0ABgdHPQYZKwgHBwwbJQAHAiANDAcdAA8ADBtHJg0NGiUABwIgDQwHHQAPAAwbNUtFNUsECB0KASANNUtTW1pcX1tfXxRLFA==\n",
      "[+] Adicionada página: https://hltv.org/EksbCB4oDSANS1NLHQYZCwgHBwwbNg4OCwwdNgsbS0VLGwgeKA05BQgKDAQMBx0gDUtTSz0GGSoMBx0MG0tFSxsIHioGHAcdGxAgGgZLU0srO0tFSxsIHigNPQgOGktTEhRFSxsIHioFAAoCIA0MBx0ADwAMG0tTSxI1Sx0QGQw1S1M1SwYbDkcBBR0fRwgNGkcIGQBHDQgdCEc9BhkrCAcHDBsoDSoGBw8ADhwbCB0ABgdHPQYZKwgHBwwbJQAHAiANDAcdAA8ADBtHJg0NGiUABwIgDQwHHQAPAAwbNUtFNUsECB0KASANNUtTW1pcX1pcWhRLFA==\n",
      "[+] Adicionada página: https://hltv.org/EksbCB4oDSANS1NLHQYZCwgHBwwbNg4OCwwdNgsbS0VLGwgeKA05BQgKDAQMBx0gDUtTSz0GGSoMBx0MG0tFSxsIHioGHAcdGxAgGgZLU0srO0tFSxsIHigNPQgOGktTEhRFSxsIHioFAAoCIA0MBx0ADwAMG0tTSxI1Sx0QGQw1S1M1SwYbDkcBBR0fRwgNGkcIGQBHDQgdCEc9BhkrCAcHDBsoDSoGBw8ADhwbCB0ABgdHPQYZKwgHBwwbJQAHAiANDAcdAA8ADBtHJg0NGiUABwIgDQwHHQAPAAwbNUtFNUsECB0KASANNUtTW1pcX1tfXhRLFA==\n",
      "[+] Adicionada página: https://hltv.org/EksbCB4oDSANS1NLXllLRUsbCB4oDTkFCAoMBAwHHSANS1NLPQYZOwAOAR1LRUsbCB4qBhwHHRsQIBoGS1NLKztLRUsbCB4oDT0IDhpLUxIURUsbCB4qBQAKAiANDAcdAA8ADBtLUwccBQUU\n",
      "[+] Adicionada página: https://hltv.org/EksbCB4oDSANS1NLWFlZS0VLGwgeKA05BQgKDAQMBx0gDUtTSz0GGSQGCwAFDEtFSxsIHioGHAcdGxAgGgZLU0srO0tFSxsIHigNPQgOGktTEksZCA4MS1NLLxsGBx1LFEVLGwgeKgUACgIgDQwHHQAPAAwbS1NLEjVLBAgdCgEgDTVLU1taXF9dWFFFNUsGDQ0aOgwFDAodAAYHNUtTNUsnJicsNUsUSxQ=\n",
      "[+] Adicionada página: https://hltv.org/matches/2356418/imperial-vs-teamone-esl-challenger-valencia-2022-north-america-open-qualifier-2\n",
      "[+] Adicionada página: https://hltv.org/matches/2356415/uno-mille-vs-b4-esl-challenger-valencia-2022-south-america-open-qualifier-2\n",
      "[+] Adicionada página: https://hltv.org/matches/2356417/party-astronauts-vs-godsent-esl-challenger-valencia-2022-north-america-open-qualifier-2\n",
      "[+] Adicionada página: https://hltv.org/events/6372/pgl-major-antwerp-2022\n",
      "[+] Adicionada página: https://hltv.org/results?event=6372\n",
      "[+] Adicionada página: https://hltv.org/stats?event=6372\n",
      "[+] Adicionada página: https://hltv.org/gallery/12326/pgl-major-antwerp-2022-day-8\n",
      "[+] Adicionada página: https://hltv.org/major\n",
      "[+] Adicionada página: https://www.hltv.org/news/33857/ropz-if-theres-pressure-its-for-everyone-and-i-think-it-favors-us-a-bit-more\n",
      "[+] Adicionada página: https://hltv.org/news/33885/rain-were-just-getting-started\n",
      "[+] Adicionada página: https://hltv.org/news/33886/karrigan-im-stronger-than-i-was-in-boston-and-i-think-that-showed-today\n",
      "[+] Adicionada página: https://hltv.org/news/33884/rain-claims-pgl-major-antwerp-mvp-award\n",
      "[+] Adicionada página: https://hltv.org/news/33882/faze-defeat-navi-2-0-to-win-pgl-major-antwerp\n",
      "[+] Adicionada página: https://hltv.org/news/33883/gucci-and-faceit-announce-gucci-gaming-academy\n",
      "[+] Adicionada página: https://hltv.org/news/33881/five-reasons-to-watch-the-pgl-major-grand-final\n",
      "[+] Adicionada página: https://hltv.org/news/33864/djl-on-impressions-when-first-joining-nip-i-didnt-feel-that-they-were-a-team\n",
      "[+] Adicionada página: https://hltv.org/news/33880/yekindar-and-es3tag-captain-teams-in-pgl-major-all-star-game\n",
      "[+] Adicionada página: https://hltv.org/news/33851/previous-major-winners-in-photos\n",
      "[+] Adicionada página: https://hltv.org/news/33879/video-faze-and-navi-brush-off-underdogs-to-set-up-dream-final-major-recap-by-ggbet-ft-moses\n",
      "[+] Adicionada página: https://hltv.org/news/33878/video-magixxs-ace-and-1v4-against-faze\n",
      "[+] Adicionada página: https://hltv.org/news/33877/s1mple-were-hungry-for-a-second-in-a-row\n",
      "[+] Adicionada página: https://hltv.org/news/33876/navi-ravage-ence-to-set-up-final-showdown-against-faze\n",
      "[+] Adicionada página: https://hltv.org/news/33875/rain-this-is-one-of-the-best-crowds-ive-played-in-front-of\n",
      "[+] Adicionada página: https://hltv.org/news/33874/faze-advance-to-pgl-major-antwerp-grand-final-after-edging-out-spirit\n",
      "[+] Adicionada página: https://hltv.org/news/33872/who-are-the-pgl-major-mvp-frontrunners\n",
      "[+] Adicionada página: https://hltv.org/news/33866/fnatic-down-to-two-players-after-benching-alex-and-poizon\n",
      "[+] Adicionada página: https://hltv.org/news/33863/s1ren-art-said-that-we-got-lucky-and-that-it-would-be-easy-for-them-that-lit-a-fire-in-me\n",
      "[+] Adicionada página: https://hltv.org/news/33873/video-navi-heroic-flames-ence-clash-in-quarters-major-recap-by-moses\n",
      "[+] Adicionada página: https://hltv.org/news/33869/second-quarter-finals-day-in-photos\n",
      "[+] Adicionada página: https://hltv.org/news/33871/video-teses-clutches-1v2-to-stop-navis-momentum\n",
      "[+] Adicionada página: https://hltv.org/news/33870/b1ad3-if-you-want-to-win-the-second-major-in-a-row-you-need-to-beat-all-the-best-teams\n",
      "[+] Adicionada página: https://hltv.org/news/33868/navi-hold-out-against-heroic-to-claim-semi-final-spot\n",
      "[+] Adicionada página: https://hltv.org/news/33867/snappi-we-may-even-be-favorites-if-we-go-up-against-heroic\n",
      "[+] Adicionada página: https://hltv.org/news/33865/ence-best-copenhagen-flames-to-march-into-semi-finals\n",
      "[+] Adicionada página: https://hltv.org/news/33862/cadian-on-facing-navi-they-are-huge-favourites-they-must-not-lose\n",
      "[+] Adicionada página: https://hltv.org/news/33861/boombl4-on-heroic-rematch-it-wont-be-like-last-time\n",
      "[+] Adicionada página: https://hltv.org/news/33860/video-moses-recaps-first-playoff-games-at-pgl-major-antwerp\n",
      "[+] Adicionada página: https://hltv.org/news/33859/mibr-confirm-brnz4n-promotion\n",
      "[+] Adicionada página: https://hltv.org/news/33858/spirit-sweep-furia-and-advance-to-semi-finals\n",
      "[+] Adicionada página: https://hltv.org/news/archive/2022/may\n",
      "[+] Adicionada página: https://hltv.org/forums/threads/2632639/s0mple-performance\n",
      "[+] Adicionada página: https://hltv.org/matches/2356169/faze-vs-natus-vincere-pgl-major-antwerp-2022\n",
      "[+] Adicionada página: https://hltv.org/forums/threads/2632629/goat-igl\n",
      "[+] Adicionada página: https://hltv.org/matches/2356409/northern-forces-vs-imperial-esl-challenger-valencia-2022-north-america-open-qualifier-2\n",
      "[+] Adicionada página: https://hltv.org/forums/threads/2618761/if-faze-win-the-major\n",
      "[+] Adicionada página: https://hltv.org/forums/threads/2631738/fnx-i-want-to-win-everyhing\n",
      "[+] Adicionada página: https://hltv.org/forums/threads/2632458/next-major\n",
      "[+] Adicionada página: https://hltv.org/forums/threads/2632590/era-of-no-eras\n",
      "[+] Adicionada página: https://hltv.org/forums/threads/2632343/niko-major\n",
      "[+] Adicionada página: https://hltv.org/forums/threads/2632643/fff-fun-faze-fact\n",
      "[+] Adicionada página: https://hltv.org/forums/threads/2632609/time-for-faze-to-think-about-the-future\n",
      "[+] Adicionada página: https://hltv.org/forums/threads/2632641/capsule-discount-when\n",
      "[+] Adicionada página: https://hltv.org/forums/threads/2632644/did-you-forget-something\n",
      "[+] Adicionada página: https://hltv.org/forums/threads/2632634/rain-and-karrigan\n",
      "[+] Adicionada página: https://hltv.org/forums/threads/2632632/gla1ve-karrigan\n",
      "[+] Adicionada página: https://hltv.org/forums/threads/2632638/brilliant-coin-guys\n",
      "[+] Adicionada página: https://hltv.org/forums/threads/2632642/spinx-to-miss-iem-dallas\n",
      "[+] Adicionada página: https://hltv.org/EksbCB4oDSANS1NLWF1RS0VLGwgeKA05BQgKDAQMBx0gDUtTSy8AGxodKgYFHAQHPQYZS0VLGwgeKgYcBx0bECAaBktTSys7S0VLGwgeKA09CA4aS1MSFEVLGwgeKgUACgIgDQwHHQAPAAwbS1NLEjVLBAgdCgEgDTVLU1taXF9dWFFFNUsGDQ0aOgwFDAodAAYHNUtTNUsvKCUlKygqIjVLFEsU\n",
      "[+] Adicionada página: https://hltv.org/EksbCB4oDSANS1NLWF1RS0VLGwgeKA05BQgKDAQMBx0gDUtTSy8AGxodKgYFHAQHPQYZS0VLGwgeKgYcBx0bECAaBktTSys7S0VLGwgeKA09CA4aS1MSFEVLGwgeKgUACgIgDQwHHQAPAAwbS1NLEjVLBAgdCgEgDTVLU1taXF9dWFFFNUsGDQ0aOgwFDAodAAYHNUtTNUs9LCgkWDVLFEsU\n",
      "[+] Adicionada página: https://hltv.org/EksbCB4oDSANS1NLWF1RS0VLGwgeKA05BQgKDAQMBx0gDUtTSy8AGxodKgYFHAQHPQYZS0VLGwgeKgYcBx0bECAaBktTSys7S0VLGwgeKA09CA4aS1MSFEVLGwgeKgUACgIgDQwHHQAPAAwbS1NLEjVLBAgdCgEgDTVLU1taXF9dWFFFNUsGDQ0aOgwFDAodAAYHNUtTNUs9LCgkWzVLFEsU\n",
      "[+] Adicionada página: https://hltv.org/EksbCB4oDSANS1NLWF1RS0VLGwgeKA05BQgKDAQMBx0gDUtTSy8AGxodKgYFHAQHPQYZS0VLGwgeKgYcBx0bECAaBktTSys7S0VLGwgeKA09CA4aS1MSFEVLGwgeKgUACgIgDQwHHQAPAAwbS1NLEjVLBAgdCgEgDTVLU1taXF9dWFFFNUsGDQ0aOgwFDAodAAYHNUtTNUsnJicsNUsUSxQ=\n",
      "[+] Adicionada página: https://hltv.org/stats/leaderboards?startDate=2022-05-16&endDate=2022-05-23&rankingFilter=Top30\n",
      "[+] Adicionada página: https://hltv.org/EksbCB4oDSANS1NLGgIABxkGGx02DwAbGh0KBgVLRUsbCB4oDTkFCAoMBAwHHSANS1NLLwAbGh0qBgUcBAckAA0NBQxLRUsbCB4qBhwHHRsQIBoGS1NLKztLRUsbCB4oDT0IDhpLUxIURUsbCB4qBQAKAiANDAcdAA8ADBtLU0sSNUsbDA0AGwwKHSUABwI1S1M1SwEdHRkaU0ZGGgIABxkGGx1HCgYERgAdDARGAQgHDUQeGwgZGkQKBgsIBR1EGgIcBQUaRA8ADAUNRB0MGh0MDVYbVAEFHR81SxRLFA==\n",
      "[+] Adicionada página: https://hltv.org/EksbCB4oDSANS1NLWFFfS0VLGwgeKA05BQgKDAQMBx0gDUtTSy8AGxodKgYFOwgHAgAHDisQS0VLGwgeKgYcBx0bECAaBktTSys7S0VLGwgeKA09CA4aS1MSFEVLGwgeKgUACgIgDQwHHQAPAAwbS1MHHAUFFA==\n",
      "[+] Adicionada página: https://hltv.org/team/6667/faze\n",
      "[+] Adicionada página: https://hltv.org/team/4608/natus-vincere\n",
      "[+] Adicionada página: https://hltv.org/team/4869/ence\n",
      "[+] Adicionada página: https://hltv.org/team/5752/cloud9\n",
      "[+] Adicionada página: https://hltv.org/team/5995/g2\n",
      "[+] Adicionada página: https://hltv.org/events/6138/iem-dallas-2022\n",
      "[+] Adicionada página: https://hltv.org/events/6477/pinnacle-cup-championship-2022\n",
      "[+] Adicionada página: https://hltv.org/events/6345/blast-premier-spring-final-2022\n",
      "[+] Adicionada página: https://hltv.org/events/6510/roobet-cup-2022\n",
      "[+] Adicionada página: https://hltv.org/EksbCB4oDSANS1NLW11eS0VLGwgeKA05BQgKDAQMBx0gDUtTSy8AGxodKgYFHAQHKwYdHQYEWEtFSxsIHioGHAcdGxAgGgZLU0srO0tFSxsIHigNPQgOGktTEhRFSxsIHioFAAoCIA0MBx0ADwAMG0tTBxwFBRQ=\n",
      "[+] Adicionada página: https://hltv.org/gallery/view/90054\n",
      "[+] Adicionada página: https://hltv.org/gallery/11038/round-31-football-match-virtuspro-vs-sk-gaming\n",
      "[+] Adicionada página: https://hltv.org/matches/2356352/sprout-vs-tricked-elisa-invitational-spring-2022\n",
      "[+] Adicionada página: https://hltv.org/matches/2356266/skade-vs-budapest-five-republeague-season-3-closed-qualifier\n",
      "[+] Adicionada página: https://hltv.org/matches/2356353/ecstatic-vs-masonic-elisa-invitational-spring-2022\n",
      "[+] Adicionada página: https://hltv.org/matches/2356267/apeks-vs-hellslayers-republeague-season-3-closed-qualifier\n",
      "[+] Adicionada página: https://hltv.org/EksbCB4oDSANS1NLWl5YS0VLGwgeKA05BQgKDAQMBx0gDUtTSz0BABsNKgYFHAQHJAANDQUMWEtFSxsIHioGHAcdGxAgGgZLU0srO0tFSxsIHigNPQgOGktTEhRFSxsIHioFAAoCIA0MBx0ADwAMG0tTBxwFBRQ=\n",
      "[+] Adicionada página: https://hltv.org/events/6559/esl-challenger-valencia-2022-north-america-open-qualifier-2\n",
      "[+] Adicionada página: https://hltv.org/matches/2356407/teamone-vs-gaimin-gladiators-esl-challenger-valencia-2022-north-america-open-qualifier-2\n",
      "[+] Adicionada página: https://hltv.org/events/6562/esl-challenger-valencia-2022-south-america-open-qualifier-2\n",
      "[+] Adicionada página: https://hltv.org/matches/2356416/sharks-vs-arctic-esl-challenger-valencia-2022-south-america-open-qualifier-2\n",
      "[+] Adicionada página: https://hltv.org/matches/2356408/party-astronauts-vs-onet4p-esl-challenger-valencia-2022-north-america-open-qualifier-2\n",
      "[+] Adicionada página: https://hltv.org/matches/2356410/godsent-vs-davenport-university-esl-challenger-valencia-2022-north-america-open-qualifier-2\n",
      "[+] Adicionada página: https://hltv.org/matches/2356403/sharks-vs-meta-br-esl-challenger-valencia-2022-south-america-open-qualifier-2\n",
      "[+] Adicionada página: https://hltv.org/matches/2356406/b4-vs-leviatan-esl-challenger-valencia-2022-south-america-open-qualifier-2\n",
      "[+] Adicionada página: https://hltv.org/matches/2356405/holkattes-vs-uno-mille-esl-challenger-valencia-2022-south-america-open-qualifier-2\n",
      "[+] Adicionada página: https://hltv.org/matches/2356404/stars-horizon-vs-arctic-esl-challenger-valencia-2022-south-america-open-qualifier-2\n",
      "[+] Adicionada página: https://hltv.org/events/6556/esl-challenger-valencia-2022-europe-open-qualifier-2\n",
      "[+] Adicionada página: https://hltv.org/matches/2356414/skade-vs-bigd-esl-challenger-valencia-2022-europe-open-qualifier-2\n",
      "[+] Adicionada página: https://hltv.org/matches/2356413/1win-vs-0to100-esl-challenger-valencia-2022-europe-open-qualifier-2\n",
      "[+] Adicionada página: https://hltv.org/events/6581/pge-supercup-polish-esport-league-2022-closed-qualifier\n",
      "[+] Adicionada página: https://hltv.org/matches/2356412/illuminar-vs-wisla-krakow-pge-supercup-polish-esport-league-2022-closed-qualifier\n",
      "[+] Adicionada página: https://hltv.org/events/6578/fragleague-season-8\n",
      "[+] Adicionada página: https://hltv.org/matches/2356253/kappa-bar-vs-vikings-fragleague-season-8\n",
      "[+] Adicionada página: https://hltv.org/matches/2356390/ldlc-vs-bigd-esl-challenger-valencia-2022-europe-open-qualifier-2\n",
      "[+] Adicionada página: https://hltv.org/matches/2356396/cloudrunners-vs-skade-esl-challenger-valencia-2022-europe-open-qualifier-2\n",
      "[+] Adicionada página: https://hltv.org/matches/2356393/havu-vs-0to100-esl-challenger-valencia-2022-europe-open-qualifier-2\n",
      "[+] Adicionada página: https://hltv.org/events/1040/showmatch-csgo\n",
      "[+] Adicionada página: https://hltv.org/matches/2356382/team-smoke-vs-team-flash-showmatch-csgo\n",
      "[+] Adicionada página: https://hltv.org/matches/2356392/1win-vs-nemiga-esl-challenger-valencia-2022-europe-open-qualifier-2\n",
      "[+] Adicionada página: https://hltv.org/events/6565/esl-challenger-valencia-2022-asia-open-qualifier-2\n",
      "[+] Adicionada página: https://hltv.org/matches/2356411/nkt-vs-invictus-esl-challenger-valencia-2022-asia-open-qualifier-2\n",
      "[+] Adicionada página: https://hltv.org/matches/2356379/wisla-krakow-vs-pact-pge-supercup-polish-esport-league-2022-closed-qualifier\n",
      "[+] Adicionada página: https://hltv.org/events/6574/swisscom-hero-league-spring-2022\n",
      "[+] Adicionada página: https://hltv.org/matches/2356258/shape-vs-babos-swisscom-hero-league-spring-2022\n",
      "[+] Adicionada página: https://hltv.org/matches/2356377/nkt-vs-catevil-esl-challenger-valencia-2022-asia-open-qualifier-2\n",
      "[+] Adicionada página: https://hltv.org/matches/2356380/impression-vs-illuminar-pge-supercup-polish-esport-league-2022-closed-qualifier\n",
      "[+] Adicionada página: https://hltv.org/matches/2356378/born-in-mongolia-vs-invictus-esl-challenger-valencia-2022-asia-open-qualifier-2\n",
      "[+] Adicionada página: https://hltv.org/events/6513/esl-challenger-league-season-41-north-america\n",
      "[+] Adicionada página: https://hltv.org/matches/2356369/ex-uyu-vs-unjustified-esl-challenger-league-season-41-north-america\n",
      "[+] Adicionada página: https://hltv.org/matches/2356402/stone-vs-leviatan-esl-challenger-valencia-2022-south-america-open-qualifier-2\n",
      "[+] Adicionada página: https://hltv.org/matches/2356400/holkattes-vs-daotsu-esl-challenger-valencia-2022-south-america-open-qualifier-2\n",
      "[+] Adicionada página: https://hltv.org/matches/2356401/wap-vs-stars-horizon-esl-challenger-valencia-2022-south-america-open-qualifier-2\n",
      "[+] Adicionada página: https://hltv.org/matches/2356399/rehl-vs-sharks-esl-challenger-valencia-2022-south-america-open-qualifier-2\n",
      "[+] Adicionada página: https://hltv.org/matches/2356397/b4-vs-the-union-esl-challenger-valencia-2022-south-america-open-qualifier-2\n",
      "[+] Adicionada página: https://hltv.org/matches/2356398/players-vs-arctic-esl-challenger-valencia-2022-south-america-open-qualifier-2\n",
      "[+] Adicionada página: https://hltv.org/matches/2356394/meta-br-vs-los-grandes-esl-challenger-valencia-2022-south-america-open-qualifier-2\n",
      "[+] Adicionada página: https://hltv.org/matches/2356395/windingo-vs-uno-mille-esl-challenger-valencia-2022-south-america-open-qualifier-2\n",
      "[+] Adicionada página: https://hltv.org/matches/2356391/ec-kyiv-vs-skade-esl-challenger-valencia-2022-europe-open-qualifier-2\n",
      "[+] Adicionada página: https://hltv.org/matches/2356386/finest-vs-cloudrunners-esl-challenger-valencia-2022-europe-open-qualifier-2\n",
      "[+] Adicionada página: https://hltv.org/matches/2356385/0to100-vs-into-the-breach-esl-challenger-valencia-2022-europe-open-qualifier-2\n",
      "[+] Adicionada página: https://hltv.org/matches/2356389/gtz-bulls-vs-nemiga-esl-challenger-valencia-2022-europe-open-qualifier-2\n",
      "[+] Adicionada página: https://hltv.org/matches/2356384/bluejays-vs-bigd-esl-challenger-valencia-2022-europe-open-qualifier-2\n",
      "[+] Adicionada página: https://hltv.org/matches/2356388/1win-vs-astralis-talent-esl-challenger-valencia-2022-europe-open-qualifier-2\n",
      "[+] Adicionada página: https://hltv.org/matches/2356387/havu-vs-looking-for-org-esl-challenger-valencia-2022-europe-open-qualifier-2\n",
      "[+] Adicionada página: https://hltv.org/matches/2356383/ldlc-vs-lilmix-esl-challenger-valencia-2022-europe-open-qualifier-2\n",
      "[+] Adicionada página: https://hltv.org/matches/2356168/ence-vs-natus-vincere-pgl-major-antwerp-2022\n",
      "[+] Adicionada página: https://hltv.org/matches/2356167/faze-vs-spirit-pgl-major-antwerp-2022\n",
      "[+] Adicionada página: https://hltv.org/matches/2356376/born-in-mongolia-vs-quazar-esl-challenger-valencia-2022-asia-open-qualifier-2\n",
      "[+] Adicionada página: https://hltv.org/matches/2356373/clutch-vs-catevil-esl-challenger-valencia-2022-asia-open-qualifier-2\n",
      "[+] Adicionada página: https://hltv.org/matches/2356375/nkt-vs-born-in-the-east-esl-challenger-valencia-2022-asia-open-qualifier-2\n",
      "[+] Adicionada página: https://hltv.org/matches/2356374/lynn-vision-vs-invictus-esl-challenger-valencia-2022-asia-open-qualifier-2\n",
      "[+] Adicionada página: https://hltv.org/events/6558/esl-challenger-valencia-2022-north-america-open-qualifier-1\n",
      "[+] Adicionada página: https://hltv.org/matches/2356368/atk-vs-gaimin-gladiators-esl-challenger-valencia-2022-north-america-open-qualifier-1\n",
      "[+] Adicionada página: https://hltv.org/events/6561/esl-challenger-valencia-2022-south-america-open-qualifier-1\n",
      "[+] Adicionada página: https://hltv.org/matches/2356366/sws-vs-uno-mille-esl-challenger-valencia-2022-south-america-open-qualifier-1\n",
      "[+] Adicionada página: https://hltv.org/matches/2356367/gaimin-gladiators-vs-teamone-esl-challenger-valencia-2022-north-america-open-qualifier-1\n",
      "[+] Adicionada página: https://hltv.org/matches/2356365/onet4p-vs-atk-esl-challenger-valencia-2022-north-america-open-qualifier-1\n",
      "[+] Adicionada página: https://hltv.org/matches/2356364/uno-mille-vs-b4-esl-challenger-valencia-2022-south-america-open-qualifier-1\n",
      "[+] Adicionada página: https://hltv.org/matches/2356347/carpe-diem-vs-gaimin-gladiators-esl-challenger-valencia-2022-north-america-open-qualifier-1\n",
      "[+] Adicionada página: https://hltv.org/matches/2356363/sws-vs-stars-horizon-esl-challenger-valencia-2022-south-america-open-qualifier-1\n",
      "[+] Adicionada página: https://hltv.org/matches/2356345/teamone-vs-party-astronauts-esl-challenger-valencia-2022-north-america-open-qualifier-1\n",
      "[+] Adicionada página: https://hltv.org/matches/2356346/strife-vs-atk-esl-challenger-valencia-2022-north-america-open-qualifier-1\n",
      "[+] Adicionada página: https://hltv.org/matches/2356351/b4-vs-stone-esl-challenger-valencia-2022-south-america-open-qualifier-1\n",
      "[+] Adicionada página: https://hltv.org/matches/2356349/stars-horizon-vs-redragon-esl-challenger-valencia-2022-south-america-open-qualifier-1\n",
      "[+] Adicionada página: https://hltv.org/matches/2356350/uno-mille-vs-holkattes-esl-challenger-valencia-2022-south-america-open-qualifier-1\n",
      "[+] Adicionada página: https://hltv.org/matches/2356348/sws-vs-meta-br-esl-challenger-valencia-2022-south-america-open-qualifier-1\n",
      "[+] Adicionada página: https://hltv.org/matches/2356166/natus-vincere-vs-heroic-pgl-major-antwerp-2022\n",
      "[+] Adicionada página: https://hltv.org/events/6555/esl-challenger-valencia-2022-europe-open-qualifier-1\n",
      "[+] Adicionada página: https://hltv.org/matches/2356362/sprout-vs-atlantic-esl-challenger-valencia-2022-europe-open-qualifier-1\n",
      "[+] Adicionada página: https://hltv.org/matches/2356361/k23-vs-cloudrunners-esl-challenger-valencia-2022-europe-open-qualifier-1\n",
      "[+] Adicionada página: https://hltv.org/matches/2356326/paloma-vs-cloudrunners-esl-challenger-valencia-2022-europe-open-qualifier-1\n",
      "[+] Adicionada página: https://hltv.org/matches/2356327/1shot-vs-atlantic-esl-challenger-valencia-2022-europe-open-qualifier-1\n",
      "[+] Adicionada página: https://hltv.org/matches/2356325/sprout-vs-ago-esl-challenger-valencia-2022-europe-open-qualifier-1\n",
      "[+] Adicionada página: https://hltv.org/matches/2356324/k23-vs-moonboys-esl-challenger-valencia-2022-europe-open-qualifier-1\n",
      "[+] Adicionada página: https://hltv.org/matches/2356165/ence-vs-copenhagen-flames-pgl-major-antwerp-2022\n",
      "[+] Adicionada página: https://hltv.org/events/6564/esl-challenger-valencia-2022-asia-open-qualifier-1\n",
      "[+] Adicionada página: https://hltv.org/matches/2356360/lynn-vision-vs-yk-esl-challenger-valencia-2022-asia-open-qualifier-1\n",
      "[+] Adicionada página: https://hltv.org/matches/2356313/lynn-vision-vs-catevil-esl-challenger-valencia-2022-asia-open-qualifier-1\n",
      "[+] Adicionada página: https://hltv.org/matches/2356314/nsn-vs-yk-esl-challenger-valencia-2022-asia-open-qualifier-1\n",
      "[+] Adicionada página: https://hltv.org/matches/2356342/tempest-vs-gaimin-gladiators-esl-challenger-valencia-2022-north-america-open-qualifier-1\n",
      "[+] Adicionada página: https://hltv.org/matches/2356343/stone-vs-totalepro-esl-challenger-valencia-2022-south-america-open-qualifier-1\n",
      "[+] Adicionada página: https://hltv.org/matches/2356336/detonate-vs-strife-esl-challenger-valencia-2022-north-america-open-qualifier-1\n",
      "[+] Adicionada página: https://hltv.org/matches/2356332/holkattes-vs-leviatan-esl-challenger-valencia-2022-south-america-open-qualifier-1\n",
      "[+] Adicionada página: https://hltv.org/matches/2356340/teamone-vs-unjustified-esl-challenger-valencia-2022-north-america-open-qualifier-1\n",
      "[+] Adicionada página: https://hltv.org/matches/2356341/revel-vs-party-astronauts-esl-challenger-valencia-2022-north-america-open-qualifier-1\n",
      "[+] Adicionada página: https://hltv.org/matches/2356338/sinister-vs-atk-esl-challenger-valencia-2022-north-america-open-qualifier-1\n",
      "[+] Adicionada página: https://hltv.org/matches/2356337/take-flyte-vs-northern-forces-esl-challenger-valencia-2022-north-america-open-qualifier-1\n",
      "[+] Adicionada página: https://hltv.org/matches/2356333/redragon-vs-xis-esl-challenger-valencia-2022-south-america-open-qualifier-1\n",
      "[+] Adicionada página: https://hltv.org/matches/2356339/x13-vs-carpe-diem-esl-challenger-valencia-2022-north-america-open-qualifier-1\n",
      "[+] Adicionada página: https://hltv.org/matches/2356335/furious-vs-stars-horizon-esl-challenger-valencia-2022-south-america-open-qualifier-1\n",
      "[+] Adicionada página: https://hltv.org/matches/2356331/godsent-vs-onet4p-esl-challenger-valencia-2022-north-america-open-qualifier-1\n",
      "[+] Adicionada página: https://hltv.org/matches/2356334/b4-vs-9z-academy-esl-challenger-valencia-2022-south-america-open-qualifier-1\n",
      "[+] Adicionada página: https://hltv.org/matches/2356330/hawks-vs-sws-esl-challenger-valencia-2022-south-america-open-qualifier-1\n",
      "[+] Adicionada página: https://hltv.org/matches/2356328/los-grandes-vs-meta-br-esl-challenger-valencia-2022-south-america-open-qualifier-1\n",
      "[+] Adicionada página: https://hltv.org/matches/2356329/lolonamente-vs-uno-mille-esl-challenger-valencia-2022-south-america-open-qualifier-1\n",
      "[+] Adicionada página: https://hltv.org/matches/2356322/ago-vs-ec-kyiv-esl-challenger-valencia-2022-europe-open-qualifier-1\n",
      "[+] Adicionada página: https://hltv.org/matches/2356323/atlantic-vs-case-esl-challenger-valencia-2022-europe-open-qualifier-1\n",
      "[+] Adicionada página: https://hltv.org/matches/2356321/isurus-vs-moonboys-esl-challenger-valencia-2022-europe-open-qualifier-1\n",
      "[+] Adicionada página: https://hltv.org/matches/2356320/cloudrunners-vs-hotu-esl-challenger-valencia-2022-europe-open-qualifier-1\n",
      "[+] Adicionada página: https://hltv.org/matches/2356318/1shot-vs-masonic-esl-challenger-valencia-2022-europe-open-qualifier-1\n",
      "[+] Adicionada página: https://hltv.org/matches/2356319/los-reyes-vs-paloma-esl-challenger-valencia-2022-europe-open-qualifier-1\n",
      "[+] Adicionada página: https://hltv.org/matches/2356317/sprout-vs-anonymo-esl-challenger-valencia-2022-europe-open-qualifier-1\n",
      "[+] Adicionada página: https://hltv.org/matches/2356316/k23-vs-inde-irae-esl-challenger-valencia-2022-europe-open-qualifier-1\n",
      "[+] Adicionada página: https://hltv.org/matches/2356164/spirit-vs-furia-pgl-major-antwerp-2022\n",
      "[+] Adicionada página: https://hltv.org/matches/2356163/nip-vs-faze-pgl-major-antwerp-2022\n",
      "[+] Adicionada página: https://hltv.org/matches/2356312/catevil-vs-nexga-esl-challenger-valencia-2022-asia-open-qualifier-1\n",
      "[+] Adicionada página: https://hltv.org/matches/2356310/nkt-vs-lynn-vision-esl-challenger-valencia-2022-asia-open-qualifier-1\n",
      "[+] Adicionada página: https://hltv.org/matches/2356309/wings-up-vs-nsn-esl-challenger-valencia-2022-asia-open-qualifier-1\n",
      "[+] Adicionada página: https://hltv.org/matches/2356311/the-shine-vs-yk-esl-challenger-valencia-2022-asia-open-qualifier-1\n",
      "[+] Adicionada página: https://hltv.org/matches/2356263/godsent-vs-atk-esl-challenger-league-season-41-north-america\n",
      "[+] Adicionada página: https://hltv.org/matches/2356264/gaimin-gladiators-vs-pain-esl-challenger-league-season-41-north-america\n",
      "[+] Adicionada página: https://hltv.org/EksbCB4oDSANS1NLUF5LRUsbCB4oDTkFCAoMBAwHHSANS1NLLwYcGx0BKgYFHAQHJAANDQUMWEtFSxsIHioGHAcdGxAgGgZLU0slP0tFSxsIHigNPQgOGktTEhRFSxsIHioFAAoCIA0MBx0ADwAMG0tTSxI1SwQIHQoBIA01S1NbWlxfXVhRRTVLBg0NGjoMBQwKHQAGBzVLUzVLJyYnLDVLFEsU\n",
      "[+] Adicionada página: https://out.hltv.org/1xbet_new.php?placement=ASdvuasdr123Gazxreg&ref=registration/\n",
      "[+] Adicionada página: https://hltv.org/results?content=vod\n",
      "[+] Adicionada página: https://hltv.org/EksbCB4oDSANS1NLWl1dS0VLGwgeKA05BQgKDAQMBx0gDUtTSy8GHBsdASoGBRwEBysGHR0GBFhLRUsbCB4qBhwHHRsQIBoGS1NLKztLRUsbCB4oDT0IDhpLUxIURUsbCB4qBQAKAiANDAcdAA8ADBtLUwccBQUU\n",
      "[+] Adicionada página: https://shop.eslgaming.com/products/hltv-t-shirt/?ref=hltv.org\n",
      "[+] Adicionada página: https://apps.apple.com/us/app/hltv-org/id1078945675\n",
      "[+] Adicionada página: https://play.google.com/store/apps/details?id=org.hltv.android\n",
      "[+] Adicionada página: https://hltv.org/contact#tab-applyForJobSection\n",
      "[+] Adicionada página: https://hltv.org/contact\n",
      "[+] Adicionada página: https://hltv.org/terms\n",
      "[+] Adicionada página: https://hltv.org/privacy\n",
      "[+] Adicionada página: https://hltv.org/cookie-policy\n",
      "[+] Adicionada página: https://hltv.org/disclosure\n",
      "[+] Adicionada página: https://hltv.org/rss/news\n",
      "[+] Adicionada página: https://www.facebook.com/HLTV.org\n",
      "[+] Adicionada página: https://www.twitch.tv/hltvorg\n",
      "[+] Adicionada página: https://www.youtube.com/user/wwwHLTVorg\n",
      "[+] Adicionada página: https://www.twitter.com/HLTVorg\n",
      "[+] Adicionada página: https://vk.com/hltvorg\n",
      "[+] Adicionada página: https://www.instagram.com/hltvorg/\n",
      "[+] Adicionada página: https://www.gamblingtherapy.org\n",
      "[+] Adicionada página: https://www.begambleaware.org/\n",
      "O tempo total gasto foi: 0.5089995861053467\n"
     ]
    }
   ],
   "source": [
    "import time\n",
    "from crawler.page_fetcher import PageFetcher\n",
    "from crawler.scheduler import Scheduler\n",
    "from urllib.parse import urlparse\n",
    "\n",
    "start = time.time()\n",
    "\n",
    "page_limit = 100\n",
    "depth_limit = 3\n",
    "usr_agent = 'CEFET-MG-RI-BOT/1.0 (https://uttermost-card-8b9.notion.site/About-CEFET-MG-RI-BOT-1-0-49c8e0792ba74010b3207c662944d793)'\n",
    "max_page_fetchers = 1\n",
    "urls_seeds = ['https://hltv.org', 'https://ge.globo.com/', 'https://www.terra.com.br/']\n",
    "\n",
    "urls = [urlparse(url) for url in urls_seeds]\n",
    "scheduler = Scheduler(usr_agent, page_limit, depth_limit, urls)\n",
    "page_fetchers = [PageFetcher(scheduler) for _ in range(max_page_fetchers)]\n",
    "\n",
    "for page_fetcher in page_fetchers:\n",
    "    page_fetcher.start()\n",
    "\n",
    "for page_fetcher in page_fetchers:\n",
    "    page_fetcher.join()\n",
    "\n",
    "end = time.time()\n",
    "\n",
    "print(f'O tempo total gasto foi: {end - start}')\n",
    "\n"
   ]
  },
  {
   "cell_type": "markdown",
   "metadata": {},
   "source": [
    "# Bibliografia\n",
    "\n",
    "Baeza-Yates, Ricardo; Ribeiro-Neto, Berthier. **Modern information retrieval: the concepts and technology behind search**. ACM Press, 2011.\n",
    "\n",
    "Batista, Natércia ; Brandão, Michele ; Pinheiro, Michele ; Dalip, Daniel ; Moro, Mirella . **[Dados de Múltiplas Fontes da Web: coleta, integração e pré-processamento](https://sol.sbc.org.br/livros/index.php/sbc/catalog/download/8/19/58-1?inline=1)**. Minicursos do XXIV Simpósio Brasileiro de Sistemas Multimídia e Web. 1ed.: Sociedade Brasileira de Computação, 2018, v. , p. 153-192."
   ]
  }
 ],
 "metadata": {
  "interpreter": {
   "hash": "9e574d955e4098b7957c415483b6f6e17e277299bfadd17be220029be75473c5"
  },
  "kernelspec": {
   "display_name": "Python 3.8.2 32-bit",
   "language": "python",
   "name": "python3"
  },
  "language_info": {
   "codemirror_mode": {
    "name": "ipython",
    "version": 3
   },
   "file_extension": ".py",
   "mimetype": "text/x-python",
   "name": "python",
   "nbconvert_exporter": "python",
   "pygments_lexer": "ipython3",
   "version": "3.8.2"
  }
 },
 "nbformat": 4,
 "nbformat_minor": 2
}
